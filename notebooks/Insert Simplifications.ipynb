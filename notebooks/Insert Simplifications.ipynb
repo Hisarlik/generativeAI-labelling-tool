{
 "cells": [
  {
   "cell_type": "code",
   "execution_count": 97,
   "id": "initial_id",
   "metadata": {
    "collapsed": true,
    "ExecuteTime": {
     "end_time": "2023-09-27T21:43:21.983361931Z",
     "start_time": "2023-09-27T21:43:21.977762046Z"
    }
   },
   "outputs": [],
   "source": [
    "import pandas as pd\n",
    "import requests"
   ]
  },
  {
   "cell_type": "code",
   "execution_count": 98,
   "outputs": [],
   "source": [
    "diario_df = pd.read_csv(\"../resources/dataset/openai_35_simplification.csv\")"
   ],
   "metadata": {
    "collapsed": false,
    "ExecuteTime": {
     "end_time": "2023-09-27T21:43:22.310573944Z",
     "start_time": "2023-09-27T21:43:22.298474079Z"
    }
   },
   "id": "94fd0ec1da5be6d7"
  },
  {
   "cell_type": "code",
   "execution_count": 99,
   "outputs": [
    {
     "data": {
      "text/plain": "   document_sentence_id                                  sentence_original  \\\n0                    19  Por el presente se llama, cita y emplaza á los...   \n1                    20  Hallándose establecidas las reales escuelas gr...   \n2                    23  De mi retiro he salido tan solo, Señor, por ve...   \n3                    25  ¿Con qué gusto y alegría los españoles miramos...   \n4                    26  El Serenísimo Señor nuestro Infante Don Antoni...   \n\n                                       document_name  length  \\\n0  ../transcripciones/TXTs/Diario_de_Madrid_1-10-...     140   \n1  ../transcripciones/TXTs/Diario_de_Madrid_1-10-...     123   \n2  ../transcripciones/TXTs/Diario_de_Madrid_1-10-...      52   \n3  ../transcripciones/TXTs/Diario_de_Madrid_1-10-...      31   \n4  ../transcripciones/TXTs/Diario_de_Madrid_1-10-...      49   \n\n                                 sentence_simplified  \n0  Por medio de esta carta, se convoca y cita a l...  \n1  Se informa que las escuelas gratuitas para los...  \n2  He salido de mi retiro solo, Señor, para ver a...  \n3  Con qué felicidad y alegría los españoles vemo...  \n4  El muy noble señor nuestro príncipe Don Antoni...  ",
      "text/html": "<div>\n<style scoped>\n    .dataframe tbody tr th:only-of-type {\n        vertical-align: middle;\n    }\n\n    .dataframe tbody tr th {\n        vertical-align: top;\n    }\n\n    .dataframe thead th {\n        text-align: right;\n    }\n</style>\n<table border=\"1\" class=\"dataframe\">\n  <thead>\n    <tr style=\"text-align: right;\">\n      <th></th>\n      <th>document_sentence_id</th>\n      <th>sentence_original</th>\n      <th>document_name</th>\n      <th>length</th>\n      <th>sentence_simplified</th>\n    </tr>\n  </thead>\n  <tbody>\n    <tr>\n      <th>0</th>\n      <td>19</td>\n      <td>Por el presente se llama, cita y emplaza á los...</td>\n      <td>../transcripciones/TXTs/Diario_de_Madrid_1-10-...</td>\n      <td>140</td>\n      <td>Por medio de esta carta, se convoca y cita a l...</td>\n    </tr>\n    <tr>\n      <th>1</th>\n      <td>20</td>\n      <td>Hallándose establecidas las reales escuelas gr...</td>\n      <td>../transcripciones/TXTs/Diario_de_Madrid_1-10-...</td>\n      <td>123</td>\n      <td>Se informa que las escuelas gratuitas para los...</td>\n    </tr>\n    <tr>\n      <th>2</th>\n      <td>23</td>\n      <td>De mi retiro he salido tan solo, Señor, por ve...</td>\n      <td>../transcripciones/TXTs/Diario_de_Madrid_1-10-...</td>\n      <td>52</td>\n      <td>He salido de mi retiro solo, Señor, para ver a...</td>\n    </tr>\n    <tr>\n      <th>3</th>\n      <td>25</td>\n      <td>¿Con qué gusto y alegría los españoles miramos...</td>\n      <td>../transcripciones/TXTs/Diario_de_Madrid_1-10-...</td>\n      <td>31</td>\n      <td>Con qué felicidad y alegría los españoles vemo...</td>\n    </tr>\n    <tr>\n      <th>4</th>\n      <td>26</td>\n      <td>El Serenísimo Señor nuestro Infante Don Antoni...</td>\n      <td>../transcripciones/TXTs/Diario_de_Madrid_1-10-...</td>\n      <td>49</td>\n      <td>El muy noble señor nuestro príncipe Don Antoni...</td>\n    </tr>\n  </tbody>\n</table>\n</div>"
     },
     "execution_count": 99,
     "metadata": {},
     "output_type": "execute_result"
    }
   ],
   "source": [
    "diario_df.head()"
   ],
   "metadata": {
    "collapsed": false,
    "ExecuteTime": {
     "end_time": "2023-09-27T21:43:22.594313980Z",
     "start_time": "2023-09-27T21:43:22.587221510Z"
    }
   },
   "id": "15d07a0693db6da9"
  },
  {
   "cell_type": "code",
   "execution_count": 100,
   "outputs": [
    {
     "data": {
      "text/plain": "    document_sentence_id                                  sentence_original  \\\n0                     19  Por el presente se llama, cita y emplaza á los...   \n1                     20  Hallándose establecidas las reales escuelas gr...   \n2                     23  De mi retiro he salido tan solo, Señor, por ve...   \n3                     25  ¿Con qué gusto y alegría los españoles miramos...   \n4                     26  El Serenísimo Señor nuestro Infante Don Antoni...   \n5                     27  Un párroco entusiasmado por Fernando é Isabel,...   \n6                     30  La persona á quien en el dia 29 de setiembre ú...   \n7                     31  quien quisiere tomar en arrendamiento, que deb...   \n8                     32  Sr. duque de Granada de Ega, á quien pertenece...   \n9                     33  Se desea saber el paradero de Doña Vitoria Dur...   \n10                    34  Dará razon D. Diego Bodelon, que vive calle de...   \n11                    36  En el postigo de san Martin, núm. 4, cuarto 2....   \n12                    38  Tarifas de los haberes, cargos, gratificacione...   \n13                    40  Tarifa de los sueldos, prest, gratificaciones ...   \n14                    41  Se hallarán en la librería de Barco, Carrera d...   \n15                    43  Se vende una huerta con pozo noria vestido de ...   \n16                    46  en metálico; y por decreto del consejo supremo...   \n17                    48  92, que comprehende 18600 pies superficiales, ...   \n18                    49  Quien quisiere tratar de ajuste, en inteligenc...   \n19                    60  ancha á 8½ y 9, y por piezas de 71 varas á 590...   \n20                    61  Se venden dos caballos hechos á silla, el uno ...   \n21                    62  El que quiera verlos y tratar de ajuste, acudi...   \n22                    64  De 12½ á una del dia 16 del pasado se perdió u...   \n23                    66  Entre 7 y 8 de la mañana del 29 del pasado set...   \n24                    69  Un sugeto de edad de 36 años desea colocarse e...   \n25                    72  Joaquina del Barco, de edad de 22 años, viuda,...   \n26                    76  En el de la cruz, á las 7 de la noche, se exec...   \n27                    78  En el del Principe, á las 7 de la noche, se ex...   \n28                    89  En estos primeros dias del mes se admiten subs...   \n29                    54  Guetard que el desorugamiento de árboles de lo...   \n30                    55  en los trigos ni en las cepas, porque cada cla...   \n31                    57  No es mul facil decidir la cuestion, aunque el...   \n32                    58  Un sugeto práctico en este asunto puede testif...   \n33                    59  \"En el año 1780 las moscas cantáridas fueron t...   \n34                    60  Yo no me lisongeo inferir de estos dos hechos ...   \n35                    61  Aun puedo añadir que no obstante los dos casos...   \n36                    62  La mas oportuna estacion del año para desoruga...   \n37                    63  Fuera de esta razon es de advertir que el deso...   \n38                    64  Pero es de prevenir que luego que se ha desoru...   \n39                    69  En la calle de la Morería vieja, casa núm. 14,...   \n40                    71  En la confitería nueva sita enfrente de la cas...   \n41                    72  En la chufería sita en la calle Imperial, junt...   \n42                    73  En la calle de Hortaleza, frente á la casa de ...   \n43                    74  En el cementerio de santa Cruz, casa núm. 9, s...   \n44                    80  La persona á quien se le hubiese extraviado ac...   \n45                    82  En la calle de santa Isabel, núm. 2, esquina á...   \n46                    84  Con permiso del casero se subarrienda un quart...   \n47                    86  En la calle de los Jardines, casa núm. 60, se ...   \n48                    88  En la carrera de san Gerónimo, inmediato á la ...   \n49                    90  Con permiso del casero se traspasa la lonja si...   \n\n                                        document_name  \\\n0   ../transcripciones/TXTs/Diario_de_Madrid_1-10-...   \n1   ../transcripciones/TXTs/Diario_de_Madrid_1-10-...   \n2   ../transcripciones/TXTs/Diario_de_Madrid_1-10-...   \n3   ../transcripciones/TXTs/Diario_de_Madrid_1-10-...   \n4   ../transcripciones/TXTs/Diario_de_Madrid_1-10-...   \n5   ../transcripciones/TXTs/Diario_de_Madrid_1-10-...   \n6   ../transcripciones/TXTs/Diario_de_Madrid_1-10-...   \n7   ../transcripciones/TXTs/Diario_de_Madrid_1-10-...   \n8   ../transcripciones/TXTs/Diario_de_Madrid_1-10-...   \n9   ../transcripciones/TXTs/Diario_de_Madrid_1-10-...   \n10  ../transcripciones/TXTs/Diario_de_Madrid_1-10-...   \n11  ../transcripciones/TXTs/Diario_de_Madrid_1-10-...   \n12  ../transcripciones/TXTs/Diario_de_Madrid_1-10-...   \n13  ../transcripciones/TXTs/Diario_de_Madrid_1-10-...   \n14  ../transcripciones/TXTs/Diario_de_Madrid_1-10-...   \n15  ../transcripciones/TXTs/Diario_de_Madrid_1-10-...   \n16  ../transcripciones/TXTs/Diario_de_Madrid_1-10-...   \n17  ../transcripciones/TXTs/Diario_de_Madrid_1-10-...   \n18  ../transcripciones/TXTs/Diario_de_Madrid_1-10-...   \n19  ../transcripciones/TXTs/Diario_de_Madrid_1-10-...   \n20  ../transcripciones/TXTs/Diario_de_Madrid_1-10-...   \n21  ../transcripciones/TXTs/Diario_de_Madrid_1-10-...   \n22  ../transcripciones/TXTs/Diario_de_Madrid_1-10-...   \n23  ../transcripciones/TXTs/Diario_de_Madrid_1-10-...   \n24  ../transcripciones/TXTs/Diario_de_Madrid_1-10-...   \n25  ../transcripciones/TXTs/Diario_de_Madrid_1-10-...   \n26  ../transcripciones/TXTs/Diario_de_Madrid_1-10-...   \n27  ../transcripciones/TXTs/Diario_de_Madrid_1-10-...   \n28  ../transcripciones/TXTs/Diario_de_Madrid_1-10-...   \n29  ../transcripciones/TXTs/Diario_de_Madrid_1-11-...   \n30  ../transcripciones/TXTs/Diario_de_Madrid_1-11-...   \n31  ../transcripciones/TXTs/Diario_de_Madrid_1-11-...   \n32  ../transcripciones/TXTs/Diario_de_Madrid_1-11-...   \n33  ../transcripciones/TXTs/Diario_de_Madrid_1-11-...   \n34  ../transcripciones/TXTs/Diario_de_Madrid_1-11-...   \n35  ../transcripciones/TXTs/Diario_de_Madrid_1-11-...   \n36  ../transcripciones/TXTs/Diario_de_Madrid_1-11-...   \n37  ../transcripciones/TXTs/Diario_de_Madrid_1-11-...   \n38  ../transcripciones/TXTs/Diario_de_Madrid_1-11-...   \n39  ../transcripciones/TXTs/Diario_de_Madrid_1-11-...   \n40  ../transcripciones/TXTs/Diario_de_Madrid_1-11-...   \n41  ../transcripciones/TXTs/Diario_de_Madrid_1-11-...   \n42  ../transcripciones/TXTs/Diario_de_Madrid_1-11-...   \n43  ../transcripciones/TXTs/Diario_de_Madrid_1-11-...   \n44  ../transcripciones/TXTs/Diario_de_Madrid_1-11-...   \n45  ../transcripciones/TXTs/Diario_de_Madrid_1-11-...   \n46  ../transcripciones/TXTs/Diario_de_Madrid_1-11-...   \n47  ../transcripciones/TXTs/Diario_de_Madrid_1-11-...   \n48  ../transcripciones/TXTs/Diario_de_Madrid_1-11-...   \n49  ../transcripciones/TXTs/Diario_de_Madrid_1-11-...   \n\n                                  sentence_simplified  \n0   Por medio de esta carta, se convoca y cita a l...  \n1   Se informa que las escuelas gratuitas para los...  \n2   He salido de mi retiro solo, Señor, para ver a...  \n3   Con qué felicidad y alegría los españoles vemo...  \n4   El muy noble señor nuestro príncipe Don Antoni...  \n5   Un sacerdote emocionado por Fernando e Isabel,...  \n6   Si alguien perdió un fanal grande o farol de c...  \n7   Quien desee arrendar el coto redondo y heredam...  \n8   El señor duque de Granada de Ega, al cual le c...  \n9   Se busca saber dónde está Doña Vitoria Duran, ...  \n10  D. Diego Bodelon, que vive en la calle de la E...  \n11  En el número 4 de la calle San Martín, en el s...  \n12  Simplificación del texto:\\n\\nLas tarifas de lo...  \n13  El texto describe la tarifa de los sueldos, pr...  \n14  Los libros estarán disponibles en diferentes l...  \n15  Se vende una parcela de tierra con un pozo de ...  \n16  El texto ha sido simplificado de la siguiente ...  \n17  El texto dice que hay una fábrica de papel bla...  \n18  Si alguien quiere negociar un acuerdo, ten en ...  \n19  Tenemos disponibles piezas de tela con un anch...  \n20  Se están vendiendo dos caballos entrenados par...  \n21  Si alguien quiere verlos y hablar sobre ajuste...  \n22  El día 16 del mes pasado, a las 12:30 de la ta...  \n23  El 29 de septiembre pasado, entre las 7 y las ...  \n24  Un hombre de 36 años quiere encontrar trabajo ...  \n25  Joaquina del Barco es una mujer de 22 años, qu...  \n26  En la cruz, a las 7 de la noche, se llevará a ...  \n27  En el teatro del Príncipe, a las 7 de la noche...  \n28  Durante los primeros días de este mes, se está...  \n29  Guetard cree que quitar las orugas de los árbo...  \n30  Los insectos no dañan los cultivos de trigo ni...  \n31  No es fácil tomar una decisión sobre este asun...  \n32  Un testigo práctico en este asunto puede dar t...  \n33  En el año 1780, hubo una gran cantidad de mosc...  \n34  No me enorgullezco de inferir de estos dos hec...  \n35  Aún puedo decir que, a pesar de los dos casos ...  \n36  La estación del año más adecuada para deshacer...  \n37  Es importante tener en cuenta que el deshielo ...  \n38  Es importante recoger cuidadosamente todos los...  \n39  En la antigua calle Morería, en la casa número...  \n40  En la nueva tienda de dulces que está enfrente...  \n41  En la tienda de conductores ubicada en la call...  \n42  En la calle de Hortaleza, frente a la casa de ...  \n43  En el cementerio de Santa Cruz, en la casa núm...  \n44  La persona que haya perdido algo irá al porter...  \n45  En la calle de Santa Isabel, número 2, en la e...  \n46  Se alquila una habitación en el segundo piso d...  \n47  En la calle de los Jardines, en la casa número...  \n48  En la carrera de San Gerónimo, cerca de la igl...  \n49  Se traspasa la lonja que está en la plazuela d...  ",
      "text/html": "<div>\n<style scoped>\n    .dataframe tbody tr th:only-of-type {\n        vertical-align: middle;\n    }\n\n    .dataframe tbody tr th {\n        vertical-align: top;\n    }\n\n    .dataframe thead th {\n        text-align: right;\n    }\n</style>\n<table border=\"1\" class=\"dataframe\">\n  <thead>\n    <tr style=\"text-align: right;\">\n      <th></th>\n      <th>document_sentence_id</th>\n      <th>sentence_original</th>\n      <th>document_name</th>\n      <th>sentence_simplified</th>\n    </tr>\n  </thead>\n  <tbody>\n    <tr>\n      <th>0</th>\n      <td>19</td>\n      <td>Por el presente se llama, cita y emplaza á los...</td>\n      <td>../transcripciones/TXTs/Diario_de_Madrid_1-10-...</td>\n      <td>Por medio de esta carta, se convoca y cita a l...</td>\n    </tr>\n    <tr>\n      <th>1</th>\n      <td>20</td>\n      <td>Hallándose establecidas las reales escuelas gr...</td>\n      <td>../transcripciones/TXTs/Diario_de_Madrid_1-10-...</td>\n      <td>Se informa que las escuelas gratuitas para los...</td>\n    </tr>\n    <tr>\n      <th>2</th>\n      <td>23</td>\n      <td>De mi retiro he salido tan solo, Señor, por ve...</td>\n      <td>../transcripciones/TXTs/Diario_de_Madrid_1-10-...</td>\n      <td>He salido de mi retiro solo, Señor, para ver a...</td>\n    </tr>\n    <tr>\n      <th>3</th>\n      <td>25</td>\n      <td>¿Con qué gusto y alegría los españoles miramos...</td>\n      <td>../transcripciones/TXTs/Diario_de_Madrid_1-10-...</td>\n      <td>Con qué felicidad y alegría los españoles vemo...</td>\n    </tr>\n    <tr>\n      <th>4</th>\n      <td>26</td>\n      <td>El Serenísimo Señor nuestro Infante Don Antoni...</td>\n      <td>../transcripciones/TXTs/Diario_de_Madrid_1-10-...</td>\n      <td>El muy noble señor nuestro príncipe Don Antoni...</td>\n    </tr>\n    <tr>\n      <th>5</th>\n      <td>27</td>\n      <td>Un párroco entusiasmado por Fernando é Isabel,...</td>\n      <td>../transcripciones/TXTs/Diario_de_Madrid_1-10-...</td>\n      <td>Un sacerdote emocionado por Fernando e Isabel,...</td>\n    </tr>\n    <tr>\n      <th>6</th>\n      <td>30</td>\n      <td>La persona á quien en el dia 29 de setiembre ú...</td>\n      <td>../transcripciones/TXTs/Diario_de_Madrid_1-10-...</td>\n      <td>Si alguien perdió un fanal grande o farol de c...</td>\n    </tr>\n    <tr>\n      <th>7</th>\n      <td>31</td>\n      <td>quien quisiere tomar en arrendamiento, que deb...</td>\n      <td>../transcripciones/TXTs/Diario_de_Madrid_1-10-...</td>\n      <td>Quien desee arrendar el coto redondo y heredam...</td>\n    </tr>\n    <tr>\n      <th>8</th>\n      <td>32</td>\n      <td>Sr. duque de Granada de Ega, á quien pertenece...</td>\n      <td>../transcripciones/TXTs/Diario_de_Madrid_1-10-...</td>\n      <td>El señor duque de Granada de Ega, al cual le c...</td>\n    </tr>\n    <tr>\n      <th>9</th>\n      <td>33</td>\n      <td>Se desea saber el paradero de Doña Vitoria Dur...</td>\n      <td>../transcripciones/TXTs/Diario_de_Madrid_1-10-...</td>\n      <td>Se busca saber dónde está Doña Vitoria Duran, ...</td>\n    </tr>\n    <tr>\n      <th>10</th>\n      <td>34</td>\n      <td>Dará razon D. Diego Bodelon, que vive calle de...</td>\n      <td>../transcripciones/TXTs/Diario_de_Madrid_1-10-...</td>\n      <td>D. Diego Bodelon, que vive en la calle de la E...</td>\n    </tr>\n    <tr>\n      <th>11</th>\n      <td>36</td>\n      <td>En el postigo de san Martin, núm. 4, cuarto 2....</td>\n      <td>../transcripciones/TXTs/Diario_de_Madrid_1-10-...</td>\n      <td>En el número 4 de la calle San Martín, en el s...</td>\n    </tr>\n    <tr>\n      <th>12</th>\n      <td>38</td>\n      <td>Tarifas de los haberes, cargos, gratificacione...</td>\n      <td>../transcripciones/TXTs/Diario_de_Madrid_1-10-...</td>\n      <td>Simplificación del texto:\\n\\nLas tarifas de lo...</td>\n    </tr>\n    <tr>\n      <th>13</th>\n      <td>40</td>\n      <td>Tarifa de los sueldos, prest, gratificaciones ...</td>\n      <td>../transcripciones/TXTs/Diario_de_Madrid_1-10-...</td>\n      <td>El texto describe la tarifa de los sueldos, pr...</td>\n    </tr>\n    <tr>\n      <th>14</th>\n      <td>41</td>\n      <td>Se hallarán en la librería de Barco, Carrera d...</td>\n      <td>../transcripciones/TXTs/Diario_de_Madrid_1-10-...</td>\n      <td>Los libros estarán disponibles en diferentes l...</td>\n    </tr>\n    <tr>\n      <th>15</th>\n      <td>43</td>\n      <td>Se vende una huerta con pozo noria vestido de ...</td>\n      <td>../transcripciones/TXTs/Diario_de_Madrid_1-10-...</td>\n      <td>Se vende una parcela de tierra con un pozo de ...</td>\n    </tr>\n    <tr>\n      <th>16</th>\n      <td>46</td>\n      <td>en metálico; y por decreto del consejo supremo...</td>\n      <td>../transcripciones/TXTs/Diario_de_Madrid_1-10-...</td>\n      <td>El texto ha sido simplificado de la siguiente ...</td>\n    </tr>\n    <tr>\n      <th>17</th>\n      <td>48</td>\n      <td>92, que comprehende 18600 pies superficiales, ...</td>\n      <td>../transcripciones/TXTs/Diario_de_Madrid_1-10-...</td>\n      <td>El texto dice que hay una fábrica de papel bla...</td>\n    </tr>\n    <tr>\n      <th>18</th>\n      <td>49</td>\n      <td>Quien quisiere tratar de ajuste, en inteligenc...</td>\n      <td>../transcripciones/TXTs/Diario_de_Madrid_1-10-...</td>\n      <td>Si alguien quiere negociar un acuerdo, ten en ...</td>\n    </tr>\n    <tr>\n      <th>19</th>\n      <td>60</td>\n      <td>ancha á 8½ y 9, y por piezas de 71 varas á 590...</td>\n      <td>../transcripciones/TXTs/Diario_de_Madrid_1-10-...</td>\n      <td>Tenemos disponibles piezas de tela con un anch...</td>\n    </tr>\n    <tr>\n      <th>20</th>\n      <td>61</td>\n      <td>Se venden dos caballos hechos á silla, el uno ...</td>\n      <td>../transcripciones/TXTs/Diario_de_Madrid_1-10-...</td>\n      <td>Se están vendiendo dos caballos entrenados par...</td>\n    </tr>\n    <tr>\n      <th>21</th>\n      <td>62</td>\n      <td>El que quiera verlos y tratar de ajuste, acudi...</td>\n      <td>../transcripciones/TXTs/Diario_de_Madrid_1-10-...</td>\n      <td>Si alguien quiere verlos y hablar sobre ajuste...</td>\n    </tr>\n    <tr>\n      <th>22</th>\n      <td>64</td>\n      <td>De 12½ á una del dia 16 del pasado se perdió u...</td>\n      <td>../transcripciones/TXTs/Diario_de_Madrid_1-10-...</td>\n      <td>El día 16 del mes pasado, a las 12:30 de la ta...</td>\n    </tr>\n    <tr>\n      <th>23</th>\n      <td>66</td>\n      <td>Entre 7 y 8 de la mañana del 29 del pasado set...</td>\n      <td>../transcripciones/TXTs/Diario_de_Madrid_1-10-...</td>\n      <td>El 29 de septiembre pasado, entre las 7 y las ...</td>\n    </tr>\n    <tr>\n      <th>24</th>\n      <td>69</td>\n      <td>Un sugeto de edad de 36 años desea colocarse e...</td>\n      <td>../transcripciones/TXTs/Diario_de_Madrid_1-10-...</td>\n      <td>Un hombre de 36 años quiere encontrar trabajo ...</td>\n    </tr>\n    <tr>\n      <th>25</th>\n      <td>72</td>\n      <td>Joaquina del Barco, de edad de 22 años, viuda,...</td>\n      <td>../transcripciones/TXTs/Diario_de_Madrid_1-10-...</td>\n      <td>Joaquina del Barco es una mujer de 22 años, qu...</td>\n    </tr>\n    <tr>\n      <th>26</th>\n      <td>76</td>\n      <td>En el de la cruz, á las 7 de la noche, se exec...</td>\n      <td>../transcripciones/TXTs/Diario_de_Madrid_1-10-...</td>\n      <td>En la cruz, a las 7 de la noche, se llevará a ...</td>\n    </tr>\n    <tr>\n      <th>27</th>\n      <td>78</td>\n      <td>En el del Principe, á las 7 de la noche, se ex...</td>\n      <td>../transcripciones/TXTs/Diario_de_Madrid_1-10-...</td>\n      <td>En el teatro del Príncipe, a las 7 de la noche...</td>\n    </tr>\n    <tr>\n      <th>28</th>\n      <td>89</td>\n      <td>En estos primeros dias del mes se admiten subs...</td>\n      <td>../transcripciones/TXTs/Diario_de_Madrid_1-10-...</td>\n      <td>Durante los primeros días de este mes, se está...</td>\n    </tr>\n    <tr>\n      <th>29</th>\n      <td>54</td>\n      <td>Guetard que el desorugamiento de árboles de lo...</td>\n      <td>../transcripciones/TXTs/Diario_de_Madrid_1-11-...</td>\n      <td>Guetard cree que quitar las orugas de los árbo...</td>\n    </tr>\n    <tr>\n      <th>30</th>\n      <td>55</td>\n      <td>en los trigos ni en las cepas, porque cada cla...</td>\n      <td>../transcripciones/TXTs/Diario_de_Madrid_1-11-...</td>\n      <td>Los insectos no dañan los cultivos de trigo ni...</td>\n    </tr>\n    <tr>\n      <th>31</th>\n      <td>57</td>\n      <td>No es mul facil decidir la cuestion, aunque el...</td>\n      <td>../transcripciones/TXTs/Diario_de_Madrid_1-11-...</td>\n      <td>No es fácil tomar una decisión sobre este asun...</td>\n    </tr>\n    <tr>\n      <th>32</th>\n      <td>58</td>\n      <td>Un sugeto práctico en este asunto puede testif...</td>\n      <td>../transcripciones/TXTs/Diario_de_Madrid_1-11-...</td>\n      <td>Un testigo práctico en este asunto puede dar t...</td>\n    </tr>\n    <tr>\n      <th>33</th>\n      <td>59</td>\n      <td>\"En el año 1780 las moscas cantáridas fueron t...</td>\n      <td>../transcripciones/TXTs/Diario_de_Madrid_1-11-...</td>\n      <td>En el año 1780, hubo una gran cantidad de mosc...</td>\n    </tr>\n    <tr>\n      <th>34</th>\n      <td>60</td>\n      <td>Yo no me lisongeo inferir de estos dos hechos ...</td>\n      <td>../transcripciones/TXTs/Diario_de_Madrid_1-11-...</td>\n      <td>No me enorgullezco de inferir de estos dos hec...</td>\n    </tr>\n    <tr>\n      <th>35</th>\n      <td>61</td>\n      <td>Aun puedo añadir que no obstante los dos casos...</td>\n      <td>../transcripciones/TXTs/Diario_de_Madrid_1-11-...</td>\n      <td>Aún puedo decir que, a pesar de los dos casos ...</td>\n    </tr>\n    <tr>\n      <th>36</th>\n      <td>62</td>\n      <td>La mas oportuna estacion del año para desoruga...</td>\n      <td>../transcripciones/TXTs/Diario_de_Madrid_1-11-...</td>\n      <td>La estación del año más adecuada para deshacer...</td>\n    </tr>\n    <tr>\n      <th>37</th>\n      <td>63</td>\n      <td>Fuera de esta razon es de advertir que el deso...</td>\n      <td>../transcripciones/TXTs/Diario_de_Madrid_1-11-...</td>\n      <td>Es importante tener en cuenta que el deshielo ...</td>\n    </tr>\n    <tr>\n      <th>38</th>\n      <td>64</td>\n      <td>Pero es de prevenir que luego que se ha desoru...</td>\n      <td>../transcripciones/TXTs/Diario_de_Madrid_1-11-...</td>\n      <td>Es importante recoger cuidadosamente todos los...</td>\n    </tr>\n    <tr>\n      <th>39</th>\n      <td>69</td>\n      <td>En la calle de la Morería vieja, casa núm. 14,...</td>\n      <td>../transcripciones/TXTs/Diario_de_Madrid_1-11-...</td>\n      <td>En la antigua calle Morería, en la casa número...</td>\n    </tr>\n    <tr>\n      <th>40</th>\n      <td>71</td>\n      <td>En la confitería nueva sita enfrente de la cas...</td>\n      <td>../transcripciones/TXTs/Diario_de_Madrid_1-11-...</td>\n      <td>En la nueva tienda de dulces que está enfrente...</td>\n    </tr>\n    <tr>\n      <th>41</th>\n      <td>72</td>\n      <td>En la chufería sita en la calle Imperial, junt...</td>\n      <td>../transcripciones/TXTs/Diario_de_Madrid_1-11-...</td>\n      <td>En la tienda de conductores ubicada en la call...</td>\n    </tr>\n    <tr>\n      <th>42</th>\n      <td>73</td>\n      <td>En la calle de Hortaleza, frente á la casa de ...</td>\n      <td>../transcripciones/TXTs/Diario_de_Madrid_1-11-...</td>\n      <td>En la calle de Hortaleza, frente a la casa de ...</td>\n    </tr>\n    <tr>\n      <th>43</th>\n      <td>74</td>\n      <td>En el cementerio de santa Cruz, casa núm. 9, s...</td>\n      <td>../transcripciones/TXTs/Diario_de_Madrid_1-11-...</td>\n      <td>En el cementerio de Santa Cruz, en la casa núm...</td>\n    </tr>\n    <tr>\n      <th>44</th>\n      <td>80</td>\n      <td>La persona á quien se le hubiese extraviado ac...</td>\n      <td>../transcripciones/TXTs/Diario_de_Madrid_1-11-...</td>\n      <td>La persona que haya perdido algo irá al porter...</td>\n    </tr>\n    <tr>\n      <th>45</th>\n      <td>82</td>\n      <td>En la calle de santa Isabel, núm. 2, esquina á...</td>\n      <td>../transcripciones/TXTs/Diario_de_Madrid_1-11-...</td>\n      <td>En la calle de Santa Isabel, número 2, en la e...</td>\n    </tr>\n    <tr>\n      <th>46</th>\n      <td>84</td>\n      <td>Con permiso del casero se subarrienda un quart...</td>\n      <td>../transcripciones/TXTs/Diario_de_Madrid_1-11-...</td>\n      <td>Se alquila una habitación en el segundo piso d...</td>\n    </tr>\n    <tr>\n      <th>47</th>\n      <td>86</td>\n      <td>En la calle de los Jardines, casa núm. 60, se ...</td>\n      <td>../transcripciones/TXTs/Diario_de_Madrid_1-11-...</td>\n      <td>En la calle de los Jardines, en la casa número...</td>\n    </tr>\n    <tr>\n      <th>48</th>\n      <td>88</td>\n      <td>En la carrera de san Gerónimo, inmediato á la ...</td>\n      <td>../transcripciones/TXTs/Diario_de_Madrid_1-11-...</td>\n      <td>En la carrera de San Gerónimo, cerca de la igl...</td>\n    </tr>\n    <tr>\n      <th>49</th>\n      <td>90</td>\n      <td>Con permiso del casero se traspasa la lonja si...</td>\n      <td>../transcripciones/TXTs/Diario_de_Madrid_1-11-...</td>\n      <td>Se traspasa la lonja que está en la plazuela d...</td>\n    </tr>\n  </tbody>\n</table>\n</div>"
     },
     "execution_count": 100,
     "metadata": {},
     "output_type": "execute_result"
    }
   ],
   "source": [
    "diario_df.drop(['length'], axis=1)"
   ],
   "metadata": {
    "collapsed": false,
    "ExecuteTime": {
     "end_time": "2023-09-27T21:43:22.926772195Z",
     "start_time": "2023-09-27T21:43:22.883362944Z"
    }
   },
   "id": "c0e8ef648cca6b3d"
  },
  {
   "cell_type": "code",
   "execution_count": 101,
   "outputs": [],
   "source": [
    "url = 'http://127.0.0.1:5000/sentence'\n",
    "import json\n",
    "import time"
   ],
   "metadata": {
    "collapsed": false,
    "ExecuteTime": {
     "end_time": "2023-09-27T21:43:23.618025766Z",
     "start_time": "2023-09-27T21:43:23.612756880Z"
    }
   },
   "id": "511f0455b1e6550a"
  },
  {
   "cell_type": "code",
   "execution_count": 102,
   "outputs": [
    {
     "name": "stdout",
     "output_type": "stream",
     "text": [
      "Por el presente se llama,\n",
      "b'{}\\n'\n",
      "Hallándose establecidas l\n",
      "b'{}\\n'\n",
      "De mi retiro he salido ta\n",
      "b'{}\\n'\n",
      "¿Con qué gusto y alegría \n",
      "b'{}\\n'\n",
      "El Serenísimo Señor nuest\n",
      "b'{}\\n'\n",
      "Un párroco entusiasmado p\n",
      "b'{}\\n'\n",
      "La persona á quien en el \n",
      "b'{}\\n'\n",
      "quien quisiere tomar en a\n",
      "b'{}\\n'\n",
      "Sr. duque de Granada de E\n",
      "b'{}\\n'\n",
      "Se desea saber el parader\n",
      "b'{}\\n'\n",
      "Dará razon D. Diego Bodel\n",
      "b'{}\\n'\n",
      "En el postigo de san Mart\n",
      "b'{}\\n'\n",
      "Tarifas de los haberes, c\n",
      "b'{}\\n'\n",
      "Tarifa de los sueldos, pr\n",
      "b'{}\\n'\n",
      "Se hallarán en la librerí\n",
      "b'{}\\n'\n",
      "Se vende una huerta con p\n",
      "b'{}\\n'\n",
      "en metálico; y por decret\n",
      "b'{}\\n'\n",
      "92, que comprehende 18600\n",
      "b'{}\\n'\n",
      "Quien quisiere tratar de \n",
      "b'{}\\n'\n",
      "ancha á 8½ y 9, y por pie\n",
      "b'{}\\n'\n",
      "Se venden dos caballos he\n",
      "b'{}\\n'\n",
      "El que quiera verlos y tr\n",
      "b'{}\\n'\n",
      "De 12½ á una del dia 16 d\n",
      "b'{}\\n'\n",
      "Entre 7 y 8 de la mañana \n",
      "b'{}\\n'\n",
      "Un sugeto de edad de 36 a\n",
      "b'{}\\n'\n",
      "Joaquina del Barco, de ed\n",
      "b'{}\\n'\n",
      "En el de la cruz, á las 7\n",
      "b'{}\\n'\n",
      "En el del Principe, á las\n",
      "b'{}\\n'\n",
      "En estos primeros dias de\n",
      "b'{}\\n'\n",
      "Guetard que el desorugami\n",
      "b'{}\\n'\n",
      "en los trigos ni en las c\n",
      "b'{}\\n'\n",
      "No es mul facil decidir l\n",
      "b'{}\\n'\n",
      "Un sugeto práctico en est\n",
      "b'{}\\n'\n",
      "\"En el año 1780 las mosca\n",
      "b'{}\\n'\n",
      "Yo no me lisongeo inferir\n",
      "b'{}\\n'\n",
      "Aun puedo añadir que no o\n",
      "b'{}\\n'\n",
      "La mas oportuna estacion \n",
      "b'{}\\n'\n",
      "Fuera de esta razon es de\n",
      "b'{}\\n'\n",
      "Pero es de prevenir que l\n",
      "b'{}\\n'\n",
      "En la calle de la Morería\n",
      "b'{}\\n'\n",
      "En la confitería nueva si\n",
      "b'{}\\n'\n",
      "En la chufería sita en la\n",
      "b'{}\\n'\n",
      "En la calle de Hortaleza,\n",
      "b'{}\\n'\n",
      "En el cementerio de santa\n",
      "b'{}\\n'\n",
      "La persona á quien se le \n",
      "b'{}\\n'\n",
      "En la calle de santa Isab\n",
      "b'{}\\n'\n",
      "Con permiso del casero se\n",
      "b'{}\\n'\n",
      "En la calle de los Jardin\n",
      "b'{}\\n'\n",
      "En la carrera de san Geró\n",
      "b'{}\\n'\n",
      "Con permiso del casero se\n",
      "b'{}\\n'\n"
     ]
    }
   ],
   "source": [
    "for _, simplification in diario_df.iterrows():\n",
    "    print(simplification['sentence_original'][:25])\n",
    "    time.sleep(3)\n",
    "    data = dict(sentence_original=simplification['sentence_original'],\n",
    "                sentence_simplified=simplification['sentence_simplified'],\n",
    "                document_name=simplification['document_name'],\n",
    "                document_sentence_id=simplification['document_sentence_id']                \n",
    "                )\n",
    "    x = requests.post(url, json=data)\n",
    "    print(x.content)"
   ],
   "metadata": {
    "collapsed": false,
    "ExecuteTime": {
     "end_time": "2023-09-27T21:45:56.603013221Z",
     "start_time": "2023-09-27T21:43:25.483844659Z"
    }
   },
   "id": "bddb4fbaafb865a4"
  },
  {
   "cell_type": "code",
   "execution_count": 74,
   "outputs": [
    {
     "data": {
      "text/plain": "{'document_sentence_id': 19,\n 'sentence_original': 'Por el presente se llama, cita y emplaza á los parientes pobres mas cercanos de D. Manuel y Doña Polonía Moreno Diez, hermanos, difuntos, naturales de la villa de Villanueva de Cameros, y vecinos que fueron de esta corte, para que dentro de 30 dias, contados desde el 1.º del presente mes de octubre, comparezcan ante el Sr. D. Joaquin Almazan, del consejo de S. M., teniente corregidor de esta villa, y escribanía del número de D. Santiago de Estepar, por si ó por medio de procurador, á pedir la cuarta parte de bienes que quedaron por muerte de los referidos D. Manuel y Doña Polonia, segun su disposicion testamentaria; con apercibimiento que pasado no compareciendo, les parará el perjuicio que bara lugar.',\n 'document_name': '../transcripciones/TXTs/Diario_de_Madrid_1-10-1816.txt',\n 'length': 140,\n 'sentence_simplified': 'Por medio de esta carta, se convoca y cita a los parientes más cercanos y pobres de D. Manuel y Doña Polonia Moreno Diez, quienes eran hermanos y fallecieron. Ellos eran naturales de la villa de Villanueva de Cameros y en su momento fueron vecinos de esta corte. Se les solicita que comparezcan en un plazo de 30 días, contados a partir del 1 de octubre de este mes, ante el Sr. D. Joaquín Almazán, miembro del consejo de S. M. y teniente corregidor de esta villa, en la escribanía número de D. Santiago de Estepa. Pueden comparecer personalmente o a través de un procurador para reclamar la cuarta parte de los bienes que quedaron tras la muerte de los mencionados D. Manuel y Doña Polonia, de acuerdo a lo establecido en su testamento. Se les advierte que, en caso de no comparecer pasado el plazo, sufrirán las consecuencias que correspondan.'}"
     },
     "execution_count": 74,
     "metadata": {},
     "output_type": "execute_result"
    }
   ],
   "source": [
    "json.loads(data)"
   ],
   "metadata": {
    "collapsed": false,
    "ExecuteTime": {
     "end_time": "2023-09-27T21:34:36.370776739Z",
     "start_time": "2023-09-27T21:34:36.348288343Z"
    }
   },
   "id": "1967fe18f27114f9"
  },
  {
   "cell_type": "code",
   "execution_count": 69,
   "outputs": [],
   "source": [
    "data = {\n",
    "    \"sentence_original\":\"original3sdssdsddsdsaaaa\",\n",
    "    \"sentence_simplified\" : \"simplisdsdsficadaaaa3\",\n",
    "    \"document_name\" : \"sdsdsdsdsds\",\n",
    "    \"document_sentence_id\": 3\n",
    "\n",
    "}"
   ],
   "metadata": {
    "collapsed": false,
    "ExecuteTime": {
     "end_time": "2023-09-27T21:32:25.633151599Z",
     "start_time": "2023-09-27T21:32:25.625198049Z"
    }
   },
   "id": "efb2c40bfe5343af"
  },
  {
   "cell_type": "code",
   "execution_count": 70,
   "outputs": [
    {
     "data": {
      "text/plain": "{'sentence_original': 'original3sdssdsddsdsaaaa',\n 'sentence_simplified': 'simplisdsdsficadaaaa3',\n 'document_name': 'sdsdsdsdsds',\n 'document_sentence_id': 3}"
     },
     "execution_count": 70,
     "metadata": {},
     "output_type": "execute_result"
    }
   ],
   "source": [
    "data"
   ],
   "metadata": {
    "collapsed": false,
    "ExecuteTime": {
     "end_time": "2023-09-27T21:32:25.788987483Z",
     "start_time": "2023-09-27T21:32:25.785437442Z"
    }
   },
   "id": "f7fafd3c316f0435"
  },
  {
   "cell_type": "code",
   "execution_count": 64,
   "outputs": [],
   "source": [
    "x = requests.post(url, json=data)"
   ],
   "metadata": {
    "collapsed": false,
    "ExecuteTime": {
     "end_time": "2023-09-27T21:31:10.734657005Z",
     "start_time": "2023-09-27T21:31:10.720635284Z"
    }
   },
   "id": "ae1f1e47899a9ca0"
  },
  {
   "cell_type": "code",
   "execution_count": 65,
   "outputs": [
    {
     "data": {
      "text/plain": "201"
     },
     "execution_count": 65,
     "metadata": {},
     "output_type": "execute_result"
    }
   ],
   "source": [
    "x.status_code"
   ],
   "metadata": {
    "collapsed": false,
    "ExecuteTime": {
     "end_time": "2023-09-27T21:31:11.118759603Z",
     "start_time": "2023-09-27T21:31:11.111474127Z"
    }
   },
   "id": "964ae17b52d4e2cc"
  },
  {
   "cell_type": "code",
   "execution_count": 51,
   "outputs": [
    {
     "data": {
      "text/plain": "<Response [201]>"
     },
     "execution_count": 51,
     "metadata": {},
     "output_type": "execute_result"
    }
   ],
   "source": [
    "x"
   ],
   "metadata": {
    "collapsed": false,
    "ExecuteTime": {
     "end_time": "2023-09-27T21:29:57.883448434Z",
     "start_time": "2023-09-27T21:29:57.880680516Z"
    }
   },
   "id": "1c486a65e1867359"
  },
  {
   "cell_type": "code",
   "execution_count": 52,
   "outputs": [
    {
     "data": {
      "text/plain": "b'{}\\n'"
     },
     "execution_count": 52,
     "metadata": {},
     "output_type": "execute_result"
    }
   ],
   "source": [
    "x.content"
   ],
   "metadata": {
    "collapsed": false,
    "ExecuteTime": {
     "end_time": "2023-09-27T21:29:58.721958820Z",
     "start_time": "2023-09-27T21:29:58.712249983Z"
    }
   },
   "id": "d00ae6127af17fd"
  },
  {
   "cell_type": "code",
   "execution_count": null,
   "outputs": [],
   "source": [],
   "metadata": {
    "collapsed": false
   },
   "id": "e7bc9cd71bb89dff"
  }
 ],
 "metadata": {
  "kernelspec": {
   "display_name": "Python 3",
   "language": "python",
   "name": "python3"
  },
  "language_info": {
   "codemirror_mode": {
    "name": "ipython",
    "version": 2
   },
   "file_extension": ".py",
   "mimetype": "text/x-python",
   "name": "python",
   "nbconvert_exporter": "python",
   "pygments_lexer": "ipython2",
   "version": "2.7.6"
  }
 },
 "nbformat": 4,
 "nbformat_minor": 5
}
