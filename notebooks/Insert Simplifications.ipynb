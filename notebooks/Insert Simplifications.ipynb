{
 "cells": [
  {
   "cell_type": "code",
   "execution_count": 29,
   "id": "initial_id",
   "metadata": {
    "collapsed": true,
    "ExecuteTime": {
     "end_time": "2023-10-03T20:58:31.794007004Z",
     "start_time": "2023-10-03T20:58:31.791250812Z"
    }
   },
   "outputs": [],
   "source": [
    "import pandas as pd\n",
    "import requests"
   ]
  },
  {
   "cell_type": "code",
   "execution_count": 30,
   "outputs": [],
   "source": [
    "diario_50_df = pd.read_csv(\"../resources/dataset/openai_35_simplification.csv\")\n",
    "diario_150_df = pd.read_csv(\"../resources/dataset/openai_35_simplification_50_150.csv\")"
   ],
   "metadata": {
    "collapsed": false,
    "ExecuteTime": {
     "end_time": "2023-10-03T20:58:32.114252230Z",
     "start_time": "2023-10-03T20:58:32.100173929Z"
    }
   },
   "id": "94fd0ec1da5be6d7"
  },
  {
   "cell_type": "code",
   "execution_count": 31,
   "outputs": [],
   "source": [
    "diario_df = pd.concat([diario_50_df, diario_150_df])"
   ],
   "metadata": {
    "collapsed": false
   }
  },
  {
   "cell_type": "code",
   "execution_count": 32,
   "outputs": [
    {
     "data": {
      "text/plain": "   document_sentence_id                                  sentence_original  \\\n0                    19  Por el presente se llama, cita y emplaza á los...   \n1                    20  Hallándose establecidas las reales escuelas gr...   \n2                    23  De mi retiro he salido tan solo, Señor, por ve...   \n3                    25  ¿Con qué gusto y alegría los españoles miramos...   \n4                    26  El Serenísimo Señor nuestro Infante Don Antoni...   \n\n                                       document_name  length  \\\n0  ../transcripciones/TXTs/Diario_de_Madrid_1-10-...     140   \n1  ../transcripciones/TXTs/Diario_de_Madrid_1-10-...     123   \n2  ../transcripciones/TXTs/Diario_de_Madrid_1-10-...      52   \n3  ../transcripciones/TXTs/Diario_de_Madrid_1-10-...      31   \n4  ../transcripciones/TXTs/Diario_de_Madrid_1-10-...      49   \n\n                                 sentence_simplified  \n0  Por medio de esta carta, se convoca y cita a l...  \n1  Se informa que las escuelas gratuitas para los...  \n2  He salido de mi retiro solo, Señor, para ver a...  \n3  Con qué felicidad y alegría los españoles vemo...  \n4  El muy noble señor nuestro príncipe Don Antoni...  ",
      "text/html": "<div>\n<style scoped>\n    .dataframe tbody tr th:only-of-type {\n        vertical-align: middle;\n    }\n\n    .dataframe tbody tr th {\n        vertical-align: top;\n    }\n\n    .dataframe thead th {\n        text-align: right;\n    }\n</style>\n<table border=\"1\" class=\"dataframe\">\n  <thead>\n    <tr style=\"text-align: right;\">\n      <th></th>\n      <th>document_sentence_id</th>\n      <th>sentence_original</th>\n      <th>document_name</th>\n      <th>length</th>\n      <th>sentence_simplified</th>\n    </tr>\n  </thead>\n  <tbody>\n    <tr>\n      <th>0</th>\n      <td>19</td>\n      <td>Por el presente se llama, cita y emplaza á los...</td>\n      <td>../transcripciones/TXTs/Diario_de_Madrid_1-10-...</td>\n      <td>140</td>\n      <td>Por medio de esta carta, se convoca y cita a l...</td>\n    </tr>\n    <tr>\n      <th>1</th>\n      <td>20</td>\n      <td>Hallándose establecidas las reales escuelas gr...</td>\n      <td>../transcripciones/TXTs/Diario_de_Madrid_1-10-...</td>\n      <td>123</td>\n      <td>Se informa que las escuelas gratuitas para los...</td>\n    </tr>\n    <tr>\n      <th>2</th>\n      <td>23</td>\n      <td>De mi retiro he salido tan solo, Señor, por ve...</td>\n      <td>../transcripciones/TXTs/Diario_de_Madrid_1-10-...</td>\n      <td>52</td>\n      <td>He salido de mi retiro solo, Señor, para ver a...</td>\n    </tr>\n    <tr>\n      <th>3</th>\n      <td>25</td>\n      <td>¿Con qué gusto y alegría los españoles miramos...</td>\n      <td>../transcripciones/TXTs/Diario_de_Madrid_1-10-...</td>\n      <td>31</td>\n      <td>Con qué felicidad y alegría los españoles vemo...</td>\n    </tr>\n    <tr>\n      <th>4</th>\n      <td>26</td>\n      <td>El Serenísimo Señor nuestro Infante Don Antoni...</td>\n      <td>../transcripciones/TXTs/Diario_de_Madrid_1-10-...</td>\n      <td>49</td>\n      <td>El muy noble señor nuestro príncipe Don Antoni...</td>\n    </tr>\n  </tbody>\n</table>\n</div>"
     },
     "execution_count": 32,
     "metadata": {},
     "output_type": "execute_result"
    }
   ],
   "source": [
    "diario_df.head()"
   ],
   "metadata": {
    "collapsed": false,
    "ExecuteTime": {
     "end_time": "2023-10-03T20:58:32.404870713Z",
     "start_time": "2023-10-03T20:58:32.394892704Z"
    }
   },
   "id": "15d07a0693db6da9"
  },
  {
   "cell_type": "code",
   "execution_count": 33,
   "outputs": [
    {
     "data": {
      "text/plain": "    document_sentence_id                                  sentence_original  \\\n0                     19  Por el presente se llama, cita y emplaza á los...   \n1                     20  Hallándose establecidas las reales escuelas gr...   \n2                     23  De mi retiro he salido tan solo, Señor, por ve...   \n3                     25  ¿Con qué gusto y alegría los españoles miramos...   \n4                     26  El Serenísimo Señor nuestro Infante Don Antoni...   \n..                   ...                                                ...   \n95                    27  6.º La persona por quien quede el Almanal ha d...   \n96                    29  7.º Que el remate del Almanale ha de celebrars...   \n97                    32  Y ara que hegue á noticia de todos, he mandado...   \n98                    37  do se anuncie al público, por este periodico; ...   \n99                    41  El Sr. Intendente subdelegado de Rentas de est...   \n\n                                        document_name  \\\n0   ../transcripciones/TXTs/Diario_de_Madrid_1-10-...   \n1   ../transcripciones/TXTs/Diario_de_Madrid_1-10-...   \n2   ../transcripciones/TXTs/Diario_de_Madrid_1-10-...   \n3   ../transcripciones/TXTs/Diario_de_Madrid_1-10-...   \n4   ../transcripciones/TXTs/Diario_de_Madrid_1-10-...   \n..                                                ...   \n95  ../transcripciones/TXTs/Diario_de_Madrid_1-8-1...   \n96  ../transcripciones/TXTs/Diario_de_Madrid_1-8-1...   \n97  ../transcripciones/TXTs/Diario_de_Madrid_1-8-1...   \n98  ../transcripciones/TXTs/Diario_de_Madrid_1-8-1...   \n99  ../transcripciones/TXTs/Diario_de_Madrid_1-8-1...   \n\n                                  sentence_simplified  \n0   Por medio de esta carta, se convoca y cita a l...  \n1   Se informa que las escuelas gratuitas para los...  \n2   He salido de mi retiro solo, Señor, para ver a...  \n3   Con qué felicidad y alegría los españoles vemo...  \n4   El muy noble señor nuestro príncipe Don Antoni...  \n..                                                ...  \n95  La persona que herede el Almanal debe presenta...  \n96  El remate del Almanale se llevará a cabo el dí...  \n97  Para que llegue a conocimiento de todos, he or...  \n98  Se anunciará al público, a través de este peri...  \n99  El Sr. Intendente subdelegado de Rentas de est...  \n\n[150 rows x 4 columns]",
      "text/html": "<div>\n<style scoped>\n    .dataframe tbody tr th:only-of-type {\n        vertical-align: middle;\n    }\n\n    .dataframe tbody tr th {\n        vertical-align: top;\n    }\n\n    .dataframe thead th {\n        text-align: right;\n    }\n</style>\n<table border=\"1\" class=\"dataframe\">\n  <thead>\n    <tr style=\"text-align: right;\">\n      <th></th>\n      <th>document_sentence_id</th>\n      <th>sentence_original</th>\n      <th>document_name</th>\n      <th>sentence_simplified</th>\n    </tr>\n  </thead>\n  <tbody>\n    <tr>\n      <th>0</th>\n      <td>19</td>\n      <td>Por el presente se llama, cita y emplaza á los...</td>\n      <td>../transcripciones/TXTs/Diario_de_Madrid_1-10-...</td>\n      <td>Por medio de esta carta, se convoca y cita a l...</td>\n    </tr>\n    <tr>\n      <th>1</th>\n      <td>20</td>\n      <td>Hallándose establecidas las reales escuelas gr...</td>\n      <td>../transcripciones/TXTs/Diario_de_Madrid_1-10-...</td>\n      <td>Se informa que las escuelas gratuitas para los...</td>\n    </tr>\n    <tr>\n      <th>2</th>\n      <td>23</td>\n      <td>De mi retiro he salido tan solo, Señor, por ve...</td>\n      <td>../transcripciones/TXTs/Diario_de_Madrid_1-10-...</td>\n      <td>He salido de mi retiro solo, Señor, para ver a...</td>\n    </tr>\n    <tr>\n      <th>3</th>\n      <td>25</td>\n      <td>¿Con qué gusto y alegría los españoles miramos...</td>\n      <td>../transcripciones/TXTs/Diario_de_Madrid_1-10-...</td>\n      <td>Con qué felicidad y alegría los españoles vemo...</td>\n    </tr>\n    <tr>\n      <th>4</th>\n      <td>26</td>\n      <td>El Serenísimo Señor nuestro Infante Don Antoni...</td>\n      <td>../transcripciones/TXTs/Diario_de_Madrid_1-10-...</td>\n      <td>El muy noble señor nuestro príncipe Don Antoni...</td>\n    </tr>\n    <tr>\n      <th>...</th>\n      <td>...</td>\n      <td>...</td>\n      <td>...</td>\n      <td>...</td>\n    </tr>\n    <tr>\n      <th>95</th>\n      <td>27</td>\n      <td>6.º La persona por quien quede el Almanal ha d...</td>\n      <td>../transcripciones/TXTs/Diario_de_Madrid_1-8-1...</td>\n      <td>La persona que herede el Almanal debe presenta...</td>\n    </tr>\n    <tr>\n      <th>96</th>\n      <td>29</td>\n      <td>7.º Que el remate del Almanale ha de celebrars...</td>\n      <td>../transcripciones/TXTs/Diario_de_Madrid_1-8-1...</td>\n      <td>El remate del Almanale se llevará a cabo el dí...</td>\n    </tr>\n    <tr>\n      <th>97</th>\n      <td>32</td>\n      <td>Y ara que hegue á noticia de todos, he mandado...</td>\n      <td>../transcripciones/TXTs/Diario_de_Madrid_1-8-1...</td>\n      <td>Para que llegue a conocimiento de todos, he or...</td>\n    </tr>\n    <tr>\n      <th>98</th>\n      <td>37</td>\n      <td>do se anuncie al público, por este periodico; ...</td>\n      <td>../transcripciones/TXTs/Diario_de_Madrid_1-8-1...</td>\n      <td>Se anunciará al público, a través de este peri...</td>\n    </tr>\n    <tr>\n      <th>99</th>\n      <td>41</td>\n      <td>El Sr. Intendente subdelegado de Rentas de est...</td>\n      <td>../transcripciones/TXTs/Diario_de_Madrid_1-8-1...</td>\n      <td>El Sr. Intendente subdelegado de Rentas de est...</td>\n    </tr>\n  </tbody>\n</table>\n<p>150 rows × 4 columns</p>\n</div>"
     },
     "execution_count": 33,
     "metadata": {},
     "output_type": "execute_result"
    }
   ],
   "source": [
    "diario_df.drop(['length'], axis=1)"
   ],
   "metadata": {
    "collapsed": false,
    "ExecuteTime": {
     "end_time": "2023-10-03T20:58:32.690282256Z",
     "start_time": "2023-10-03T20:58:32.688892810Z"
    }
   },
   "id": "c0e8ef648cca6b3d"
  },
  {
   "cell_type": "code",
   "execution_count": 34,
   "outputs": [],
   "source": [
    "url = 'http://127.0.0.1:5000/sentence'\n",
    "import json\n",
    "import time"
   ],
   "metadata": {
    "collapsed": false,
    "ExecuteTime": {
     "end_time": "2023-10-03T20:58:33.041136705Z",
     "start_time": "2023-10-03T20:58:32.999102308Z"
    }
   },
   "id": "511f0455b1e6550a"
  },
  {
   "cell_type": "code",
   "execution_count": 35,
   "outputs": [
    {
     "name": "stdout",
     "output_type": "stream",
     "text": [
      "201\n",
      "201\n",
      "201\n",
      "201\n",
      "201\n",
      "201\n",
      "201\n",
      "201\n",
      "201\n",
      "201\n",
      "201\n",
      "201\n",
      "201\n",
      "201\n",
      "201\n",
      "201\n",
      "201\n",
      "201\n",
      "201\n",
      "201\n",
      "201\n",
      "201\n",
      "201\n",
      "201\n",
      "201\n",
      "201\n",
      "201\n",
      "201\n",
      "201\n",
      "201\n",
      "201\n",
      "201\n",
      "201\n",
      "201\n",
      "201\n",
      "201\n",
      "201\n",
      "201\n",
      "201\n",
      "201\n",
      "201\n",
      "201\n",
      "201\n",
      "201\n",
      "201\n",
      "201\n",
      "201\n",
      "201\n",
      "201\n",
      "201\n",
      "201\n",
      "201\n",
      "201\n",
      "201\n",
      "201\n",
      "201\n",
      "201\n",
      "201\n",
      "201\n",
      "201\n",
      "201\n",
      "201\n",
      "201\n",
      "201\n",
      "201\n",
      "201\n",
      "201\n",
      "Error:{'sentence_original': '¡Traidores, siendo leales; y habiendo entre ellos quien ha sido conducido á las prisiones, y respirado el alre hediondo de los negros calabozos por ser buen español!', 'sentence_simplified': nan, 'document_name': '../transcripciones/TXTs/Diario_de_Madrid_1-10-1813.txt', 'document_sentence_id': 39}\n",
      "201\n",
      "201\n",
      "201\n",
      "201\n",
      "201\n",
      "201\n",
      "201\n",
      "201\n",
      "201\n",
      "201\n",
      "201\n",
      "201\n",
      "201\n",
      "201\n",
      "201\n",
      "201\n",
      "201\n",
      "201\n",
      "201\n",
      "201\n",
      "201\n",
      "201\n",
      "201\n",
      "201\n",
      "201\n",
      "201\n",
      "201\n",
      "201\n",
      "201\n",
      "201\n",
      "201\n",
      "201\n",
      "201\n",
      "201\n",
      "201\n",
      "201\n",
      "201\n",
      "201\n",
      "201\n",
      "201\n",
      "201\n",
      "201\n",
      "201\n",
      "201\n",
      "201\n",
      "201\n",
      "201\n",
      "201\n",
      "201\n",
      "201\n",
      "201\n",
      "201\n",
      "201\n",
      "201\n",
      "201\n",
      "201\n",
      "201\n",
      "201\n",
      "201\n",
      "201\n",
      "201\n",
      "201\n",
      "201\n",
      "201\n",
      "201\n",
      "Error:{'sentence_original': 'Quien hubiese hallado una mula negra aparejada, que se perdió el dia 28 del corriente entre 7 y 8 de la mañana, la entregará á Juan Antonio, mozo de paja y cebada en la posada de la Torrecilla calle de Toledo.', 'sentence_simplified': nan, 'document_name': '../transcripciones/TXTs/Diario_de_Madrid_30-1-1791.txt', 'document_sentence_id': 99}\n",
      "201\n",
      "201\n",
      "201\n",
      "201\n",
      "201\n",
      "201\n",
      "201\n",
      "201\n",
      "201\n",
      "201\n",
      "201\n",
      "201\n",
      "201\n",
      "201\n",
      "201\n",
      "201\n"
     ]
    }
   ],
   "source": [
    "for _, simplification in diario_df.iterrows():\n",
    "    try:\n",
    "        #print(simplification['sentence_original'][:25])\n",
    "        #time.sleep(1)\n",
    "        data = dict(sentence_original=simplification['sentence_original'],\n",
    "                    sentence_simplified=simplification['sentence_simplified'],\n",
    "                    document_name=simplification['document_name'],\n",
    "                    document_sentence_id=simplification['document_sentence_id']\n",
    "                    )\n",
    "        x = requests.post(url, json=data)\n",
    "        print(x.status_code)\n",
    "    except:\n",
    "        print(f\"Error:{data}\")"
   ],
   "metadata": {
    "collapsed": false,
    "ExecuteTime": {
     "end_time": "2023-10-03T21:19:01.363963229Z",
     "start_time": "2023-10-03T21:18:10.569225482Z"
    }
   },
   "id": "bddb4fbaafb865a4"
  },
  {
   "cell_type": "code",
   "execution_count": 35,
   "outputs": [],
   "source": [],
   "metadata": {
    "collapsed": false
   },
   "id": "e7bc9cd71bb89dff"
  },
  {
   "cell_type": "code",
   "execution_count": 35,
   "outputs": [],
   "source": [],
   "metadata": {
    "collapsed": false
   }
  },
  {
   "cell_type": "code",
   "execution_count": 35,
   "outputs": [],
   "source": [],
   "metadata": {
    "collapsed": false
   }
  }
 ],
 "metadata": {
  "kernelspec": {
   "display_name": "Python 3",
   "language": "python",
   "name": "python3"
  },
  "language_info": {
   "codemirror_mode": {
    "name": "ipython",
    "version": 2
   },
   "file_extension": ".py",
   "mimetype": "text/x-python",
   "name": "python",
   "nbconvert_exporter": "python",
   "pygments_lexer": "ipython2",
   "version": "2.7.6"
  }
 },
 "nbformat": 4,
 "nbformat_minor": 5
}
