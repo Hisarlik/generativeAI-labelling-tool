{
 "cells": [
  {
   "cell_type": "code",
   "execution_count": 1,
   "id": "initial_id",
   "metadata": {
    "collapsed": true,
    "ExecuteTime": {
     "end_time": "2023-12-07T17:30:13.167629243Z",
     "start_time": "2023-12-07T17:30:12.718148546Z"
    }
   },
   "outputs": [],
   "source": [
    "import pandas as pd\n",
    "import requests"
   ]
  },
  {
   "cell_type": "code",
   "execution_count": 2,
   "outputs": [
    {
     "data": {
      "text/plain": "     document_sentence_id                                  sentence_original  \\\n0                     109  Un mozo de mediana edad, castellano, solicita ...   \n1                     110  Bartolomé Perez, de edad de 20 años, desea aco...   \n2                     113  En el de la calle del Principe, por la Compañi...   \n3                     115  En el de la calle de la Cruz, por la Compañia ...   \n4                       9  Sra. del Pilar en la Escuela Pia, en San Felip...   \n..                    ...                                                ...   \n195                    79  Para desvanecer las injuriosas suposiciones de...   \n196                    80  En su consecuencia y hecho el contrato con la ...   \n197                    81  Nada influye esta digresion en el punto princi...   \n198                    83  En el número 55 de su periódico insertaron vmd...   \n199                    86  la parte de los interinos actuales empleados q...   \n\n                                         document_name  length  \\\n0    ../transcripciones/TXTs/Diario_de_Madrid_14-1-...      73   \n1    ../transcripciones/TXTs/Diario_de_Madrid_14-1-...      37   \n2    ../transcripciones/TXTs/Diario_de_Madrid_14-1-...      41   \n3    ../transcripciones/TXTs/Diario_de_Madrid_14-1-...      40   \n4    ../transcripciones/TXTs/Diario_de_Madrid_12-10...      33   \n..                                                 ...     ...   \n195  ../transcripciones/TXTs/Diario_de_Madrid_1-4-1...      45   \n196  ../transcripciones/TXTs/Diario_de_Madrid_1-4-1...      37   \n197  ../transcripciones/TXTs/Diario_de_Madrid_1-4-1...      75   \n198  ../transcripciones/TXTs/Diario_de_Madrid_1-4-1...      68   \n199  ../transcripciones/TXTs/Diario_de_Madrid_1-4-1...      36   \n\n                                   sentence_simplified  \n0    Un hombre de mediana edad, de origen español, ...  \n1    Bartolomé Perez tiene 20 años y quiere encontr...  \n2    En el teatro de la calle del Príncipe, por la ...  \n3    En el teatro ubicado en la calle de la Cruz, g...  \n4    La Sra. del Pilar comienza Nopena en varias in...  \n..                                                 ...  \n195  Se formó una respuesta para desmentir las supo...  \n196  Después de hacer el contrato con la editorial,...  \n197  Esta digresión no afecta al punto principal, p...  \n198  En el número 55 de su periódico, ustedes inser...  \n199  La parte de los empleados interinos actuales, ...  \n\n[200 rows x 5 columns]",
      "text/html": "<div>\n<style scoped>\n    .dataframe tbody tr th:only-of-type {\n        vertical-align: middle;\n    }\n\n    .dataframe tbody tr th {\n        vertical-align: top;\n    }\n\n    .dataframe thead th {\n        text-align: right;\n    }\n</style>\n<table border=\"1\" class=\"dataframe\">\n  <thead>\n    <tr style=\"text-align: right;\">\n      <th></th>\n      <th>document_sentence_id</th>\n      <th>sentence_original</th>\n      <th>document_name</th>\n      <th>length</th>\n      <th>sentence_simplified</th>\n    </tr>\n  </thead>\n  <tbody>\n    <tr>\n      <th>0</th>\n      <td>109</td>\n      <td>Un mozo de mediana edad, castellano, solicita ...</td>\n      <td>../transcripciones/TXTs/Diario_de_Madrid_14-1-...</td>\n      <td>73</td>\n      <td>Un hombre de mediana edad, de origen español, ...</td>\n    </tr>\n    <tr>\n      <th>1</th>\n      <td>110</td>\n      <td>Bartolomé Perez, de edad de 20 años, desea aco...</td>\n      <td>../transcripciones/TXTs/Diario_de_Madrid_14-1-...</td>\n      <td>37</td>\n      <td>Bartolomé Perez tiene 20 años y quiere encontr...</td>\n    </tr>\n    <tr>\n      <th>2</th>\n      <td>113</td>\n      <td>En el de la calle del Principe, por la Compañi...</td>\n      <td>../transcripciones/TXTs/Diario_de_Madrid_14-1-...</td>\n      <td>41</td>\n      <td>En el teatro de la calle del Príncipe, por la ...</td>\n    </tr>\n    <tr>\n      <th>3</th>\n      <td>115</td>\n      <td>En el de la calle de la Cruz, por la Compañia ...</td>\n      <td>../transcripciones/TXTs/Diario_de_Madrid_14-1-...</td>\n      <td>40</td>\n      <td>En el teatro ubicado en la calle de la Cruz, g...</td>\n    </tr>\n    <tr>\n      <th>4</th>\n      <td>9</td>\n      <td>Sra. del Pilar en la Escuela Pia, en San Felip...</td>\n      <td>../transcripciones/TXTs/Diario_de_Madrid_12-10...</td>\n      <td>33</td>\n      <td>La Sra. del Pilar comienza Nopena en varias in...</td>\n    </tr>\n    <tr>\n      <th>...</th>\n      <td>...</td>\n      <td>...</td>\n      <td>...</td>\n      <td>...</td>\n      <td>...</td>\n    </tr>\n    <tr>\n      <th>195</th>\n      <td>79</td>\n      <td>Para desvanecer las injuriosas suposiciones de...</td>\n      <td>../transcripciones/TXTs/Diario_de_Madrid_1-4-1...</td>\n      <td>45</td>\n      <td>Se formó una respuesta para desmentir las supo...</td>\n    </tr>\n    <tr>\n      <th>196</th>\n      <td>80</td>\n      <td>En su consecuencia y hecho el contrato con la ...</td>\n      <td>../transcripciones/TXTs/Diario_de_Madrid_1-4-1...</td>\n      <td>37</td>\n      <td>Después de hacer el contrato con la editorial,...</td>\n    </tr>\n    <tr>\n      <th>197</th>\n      <td>81</td>\n      <td>Nada influye esta digresion en el punto princi...</td>\n      <td>../transcripciones/TXTs/Diario_de_Madrid_1-4-1...</td>\n      <td>75</td>\n      <td>Esta digresión no afecta al punto principal, p...</td>\n    </tr>\n    <tr>\n      <th>198</th>\n      <td>83</td>\n      <td>En el número 55 de su periódico insertaron vmd...</td>\n      <td>../transcripciones/TXTs/Diario_de_Madrid_1-4-1...</td>\n      <td>68</td>\n      <td>En el número 55 de su periódico, ustedes inser...</td>\n    </tr>\n    <tr>\n      <th>199</th>\n      <td>86</td>\n      <td>la parte de los interinos actuales empleados q...</td>\n      <td>../transcripciones/TXTs/Diario_de_Madrid_1-4-1...</td>\n      <td>36</td>\n      <td>La parte de los empleados interinos actuales, ...</td>\n    </tr>\n  </tbody>\n</table>\n<p>200 rows × 5 columns</p>\n</div>"
     },
     "execution_count": 2,
     "metadata": {},
     "output_type": "execute_result"
    }
   ],
   "source": [
    "#diario_50_df = pd.read_csv(\"../resources/dataset/openai_35_simplification.csv\")\n",
    "#diario_150_df = pd.read_csv(\"../resources/dataset/openai_35_simplification_50_150.csv\")\n",
    "#diario_250_df = pd.read_csv(\"../resources/dataset/openai_35_simplification_150_250.csv\")\n",
    "#diario_df = pd.read_csv(\"../resources/dataset/openai_35_simplification_250_450.csv\")\n",
    "#diario_df = pd.read_csv(\"../resources/dataset/openai_35_simplification_450_650.csv\")\n",
    "#diario_df = pd.read_csv(\"../resources/dataset/openai_35_simplification_650_850.csv\")\n",
    "#diario_df = pd.read_csv(\"../resources/dataset/openai_35_simplification_850_1000.csv\")\n",
    "#diario_df = pd.read_csv(\"../resources/dataset/openai_35_simplification_1000_1200.csv\")\n",
    "#diario_df = pd.read_csv(\"../resources/dataset/openai_35_simplification_1200_1400.csv\")\n",
    "#diario_df = pd.read_csv(\"../resources/dataset/openai_35_simplification_1400_1600.csv\")\n",
    "#diario_df = pd.read_csv(\"../resources/dataset/openai_35_simplification_1600_1800.csv\")\n",
    "#diario_df = pd.read_csv(\"../resources/dataset/openai_35_simplification_1800_2000.csv\")\n",
    "diario_df = pd.read_csv(\"../resources/dataset/openai_35_simplification_2000_2200.csv\")\n",
    "diario_df"
   ],
   "metadata": {
    "collapsed": false,
    "ExecuteTime": {
     "end_time": "2023-12-07T17:30:13.169203985Z",
     "start_time": "2023-12-07T17:30:13.103382274Z"
    }
   },
   "id": "94fd0ec1da5be6d7"
  },
  {
   "cell_type": "code",
   "execution_count": 3,
   "outputs": [],
   "source": [
    "#diario_df = pd.concat([diario_50_df, diario_150_df,diario_250_df])"
   ],
   "metadata": {
    "collapsed": false,
    "ExecuteTime": {
     "end_time": "2023-12-07T17:30:13.169424091Z",
     "start_time": "2023-12-07T17:30:13.129614133Z"
    }
   },
   "id": "dec61c096ae65324"
  },
  {
   "cell_type": "code",
   "execution_count": 4,
   "outputs": [
    {
     "data": {
      "text/plain": "   document_sentence_id                                  sentence_original  \\\n0                   109  Un mozo de mediana edad, castellano, solicita ...   \n1                   110  Bartolomé Perez, de edad de 20 años, desea aco...   \n2                   113  En el de la calle del Principe, por la Compañi...   \n3                   115  En el de la calle de la Cruz, por la Compañia ...   \n4                     9  Sra. del Pilar en la Escuela Pia, en San Felip...   \n\n                                       document_name  length  \\\n0  ../transcripciones/TXTs/Diario_de_Madrid_14-1-...      73   \n1  ../transcripciones/TXTs/Diario_de_Madrid_14-1-...      37   \n2  ../transcripciones/TXTs/Diario_de_Madrid_14-1-...      41   \n3  ../transcripciones/TXTs/Diario_de_Madrid_14-1-...      40   \n4  ../transcripciones/TXTs/Diario_de_Madrid_12-10...      33   \n\n                                 sentence_simplified  \n0  Un hombre de mediana edad, de origen español, ...  \n1  Bartolomé Perez tiene 20 años y quiere encontr...  \n2  En el teatro de la calle del Príncipe, por la ...  \n3  En el teatro ubicado en la calle de la Cruz, g...  \n4  La Sra. del Pilar comienza Nopena en varias in...  ",
      "text/html": "<div>\n<style scoped>\n    .dataframe tbody tr th:only-of-type {\n        vertical-align: middle;\n    }\n\n    .dataframe tbody tr th {\n        vertical-align: top;\n    }\n\n    .dataframe thead th {\n        text-align: right;\n    }\n</style>\n<table border=\"1\" class=\"dataframe\">\n  <thead>\n    <tr style=\"text-align: right;\">\n      <th></th>\n      <th>document_sentence_id</th>\n      <th>sentence_original</th>\n      <th>document_name</th>\n      <th>length</th>\n      <th>sentence_simplified</th>\n    </tr>\n  </thead>\n  <tbody>\n    <tr>\n      <th>0</th>\n      <td>109</td>\n      <td>Un mozo de mediana edad, castellano, solicita ...</td>\n      <td>../transcripciones/TXTs/Diario_de_Madrid_14-1-...</td>\n      <td>73</td>\n      <td>Un hombre de mediana edad, de origen español, ...</td>\n    </tr>\n    <tr>\n      <th>1</th>\n      <td>110</td>\n      <td>Bartolomé Perez, de edad de 20 años, desea aco...</td>\n      <td>../transcripciones/TXTs/Diario_de_Madrid_14-1-...</td>\n      <td>37</td>\n      <td>Bartolomé Perez tiene 20 años y quiere encontr...</td>\n    </tr>\n    <tr>\n      <th>2</th>\n      <td>113</td>\n      <td>En el de la calle del Principe, por la Compañi...</td>\n      <td>../transcripciones/TXTs/Diario_de_Madrid_14-1-...</td>\n      <td>41</td>\n      <td>En el teatro de la calle del Príncipe, por la ...</td>\n    </tr>\n    <tr>\n      <th>3</th>\n      <td>115</td>\n      <td>En el de la calle de la Cruz, por la Compañia ...</td>\n      <td>../transcripciones/TXTs/Diario_de_Madrid_14-1-...</td>\n      <td>40</td>\n      <td>En el teatro ubicado en la calle de la Cruz, g...</td>\n    </tr>\n    <tr>\n      <th>4</th>\n      <td>9</td>\n      <td>Sra. del Pilar en la Escuela Pia, en San Felip...</td>\n      <td>../transcripciones/TXTs/Diario_de_Madrid_12-10...</td>\n      <td>33</td>\n      <td>La Sra. del Pilar comienza Nopena en varias in...</td>\n    </tr>\n  </tbody>\n</table>\n</div>"
     },
     "execution_count": 4,
     "metadata": {},
     "output_type": "execute_result"
    }
   ],
   "source": [
    "diario_df.head()"
   ],
   "metadata": {
    "collapsed": false,
    "ExecuteTime": {
     "end_time": "2023-12-07T17:30:13.170220646Z",
     "start_time": "2023-12-07T17:30:13.132621125Z"
    }
   },
   "id": "15d07a0693db6da9"
  },
  {
   "cell_type": "code",
   "execution_count": 5,
   "outputs": [
    {
     "data": {
      "text/plain": "     document_sentence_id                                  sentence_original  \\\n0                     109  Un mozo de mediana edad, castellano, solicita ...   \n1                     110  Bartolomé Perez, de edad de 20 años, desea aco...   \n2                     113  En el de la calle del Principe, por la Compañi...   \n3                     115  En el de la calle de la Cruz, por la Compañia ...   \n4                       9  Sra. del Pilar en la Escuela Pia, en San Felip...   \n..                    ...                                                ...   \n195                    79  Para desvanecer las injuriosas suposiciones de...   \n196                    80  En su consecuencia y hecho el contrato con la ...   \n197                    81  Nada influye esta digresion en el punto princi...   \n198                    83  En el número 55 de su periódico insertaron vmd...   \n199                    86  la parte de los interinos actuales empleados q...   \n\n                                         document_name  \\\n0    ../transcripciones/TXTs/Diario_de_Madrid_14-1-...   \n1    ../transcripciones/TXTs/Diario_de_Madrid_14-1-...   \n2    ../transcripciones/TXTs/Diario_de_Madrid_14-1-...   \n3    ../transcripciones/TXTs/Diario_de_Madrid_14-1-...   \n4    ../transcripciones/TXTs/Diario_de_Madrid_12-10...   \n..                                                 ...   \n195  ../transcripciones/TXTs/Diario_de_Madrid_1-4-1...   \n196  ../transcripciones/TXTs/Diario_de_Madrid_1-4-1...   \n197  ../transcripciones/TXTs/Diario_de_Madrid_1-4-1...   \n198  ../transcripciones/TXTs/Diario_de_Madrid_1-4-1...   \n199  ../transcripciones/TXTs/Diario_de_Madrid_1-4-1...   \n\n                                   sentence_simplified  \n0    Un hombre de mediana edad, de origen español, ...  \n1    Bartolomé Perez tiene 20 años y quiere encontr...  \n2    En el teatro de la calle del Príncipe, por la ...  \n3    En el teatro ubicado en la calle de la Cruz, g...  \n4    La Sra. del Pilar comienza Nopena en varias in...  \n..                                                 ...  \n195  Se formó una respuesta para desmentir las supo...  \n196  Después de hacer el contrato con la editorial,...  \n197  Esta digresión no afecta al punto principal, p...  \n198  En el número 55 de su periódico, ustedes inser...  \n199  La parte de los empleados interinos actuales, ...  \n\n[200 rows x 4 columns]",
      "text/html": "<div>\n<style scoped>\n    .dataframe tbody tr th:only-of-type {\n        vertical-align: middle;\n    }\n\n    .dataframe tbody tr th {\n        vertical-align: top;\n    }\n\n    .dataframe thead th {\n        text-align: right;\n    }\n</style>\n<table border=\"1\" class=\"dataframe\">\n  <thead>\n    <tr style=\"text-align: right;\">\n      <th></th>\n      <th>document_sentence_id</th>\n      <th>sentence_original</th>\n      <th>document_name</th>\n      <th>sentence_simplified</th>\n    </tr>\n  </thead>\n  <tbody>\n    <tr>\n      <th>0</th>\n      <td>109</td>\n      <td>Un mozo de mediana edad, castellano, solicita ...</td>\n      <td>../transcripciones/TXTs/Diario_de_Madrid_14-1-...</td>\n      <td>Un hombre de mediana edad, de origen español, ...</td>\n    </tr>\n    <tr>\n      <th>1</th>\n      <td>110</td>\n      <td>Bartolomé Perez, de edad de 20 años, desea aco...</td>\n      <td>../transcripciones/TXTs/Diario_de_Madrid_14-1-...</td>\n      <td>Bartolomé Perez tiene 20 años y quiere encontr...</td>\n    </tr>\n    <tr>\n      <th>2</th>\n      <td>113</td>\n      <td>En el de la calle del Principe, por la Compañi...</td>\n      <td>../transcripciones/TXTs/Diario_de_Madrid_14-1-...</td>\n      <td>En el teatro de la calle del Príncipe, por la ...</td>\n    </tr>\n    <tr>\n      <th>3</th>\n      <td>115</td>\n      <td>En el de la calle de la Cruz, por la Compañia ...</td>\n      <td>../transcripciones/TXTs/Diario_de_Madrid_14-1-...</td>\n      <td>En el teatro ubicado en la calle de la Cruz, g...</td>\n    </tr>\n    <tr>\n      <th>4</th>\n      <td>9</td>\n      <td>Sra. del Pilar en la Escuela Pia, en San Felip...</td>\n      <td>../transcripciones/TXTs/Diario_de_Madrid_12-10...</td>\n      <td>La Sra. del Pilar comienza Nopena en varias in...</td>\n    </tr>\n    <tr>\n      <th>...</th>\n      <td>...</td>\n      <td>...</td>\n      <td>...</td>\n      <td>...</td>\n    </tr>\n    <tr>\n      <th>195</th>\n      <td>79</td>\n      <td>Para desvanecer las injuriosas suposiciones de...</td>\n      <td>../transcripciones/TXTs/Diario_de_Madrid_1-4-1...</td>\n      <td>Se formó una respuesta para desmentir las supo...</td>\n    </tr>\n    <tr>\n      <th>196</th>\n      <td>80</td>\n      <td>En su consecuencia y hecho el contrato con la ...</td>\n      <td>../transcripciones/TXTs/Diario_de_Madrid_1-4-1...</td>\n      <td>Después de hacer el contrato con la editorial,...</td>\n    </tr>\n    <tr>\n      <th>197</th>\n      <td>81</td>\n      <td>Nada influye esta digresion en el punto princi...</td>\n      <td>../transcripciones/TXTs/Diario_de_Madrid_1-4-1...</td>\n      <td>Esta digresión no afecta al punto principal, p...</td>\n    </tr>\n    <tr>\n      <th>198</th>\n      <td>83</td>\n      <td>En el número 55 de su periódico insertaron vmd...</td>\n      <td>../transcripciones/TXTs/Diario_de_Madrid_1-4-1...</td>\n      <td>En el número 55 de su periódico, ustedes inser...</td>\n    </tr>\n    <tr>\n      <th>199</th>\n      <td>86</td>\n      <td>la parte de los interinos actuales empleados q...</td>\n      <td>../transcripciones/TXTs/Diario_de_Madrid_1-4-1...</td>\n      <td>La parte de los empleados interinos actuales, ...</td>\n    </tr>\n  </tbody>\n</table>\n<p>200 rows × 4 columns</p>\n</div>"
     },
     "execution_count": 5,
     "metadata": {},
     "output_type": "execute_result"
    }
   ],
   "source": [
    "diario_df.drop(['length'], axis=1)"
   ],
   "metadata": {
    "collapsed": false,
    "ExecuteTime": {
     "end_time": "2023-12-07T17:30:13.573070003Z",
     "start_time": "2023-12-07T17:30:13.536662281Z"
    }
   },
   "id": "c0e8ef648cca6b3d"
  },
  {
   "cell_type": "code",
   "execution_count": 6,
   "outputs": [],
   "source": [
    "diario_df = diario_df.dropna(axis=0)"
   ],
   "metadata": {
    "collapsed": false,
    "ExecuteTime": {
     "end_time": "2023-12-07T17:30:14.409952671Z",
     "start_time": "2023-12-07T17:30:14.374778807Z"
    }
   },
   "id": "20c8c6d3ff092f7a"
  },
  {
   "cell_type": "code",
   "execution_count": 9,
   "outputs": [],
   "source": [
    "url = 'http://127.0.0.1:5000/sentence'\n",
    "import json\n",
    "import time"
   ],
   "metadata": {
    "collapsed": false,
    "ExecuteTime": {
     "end_time": "2023-12-07T17:30:29.396355949Z",
     "start_time": "2023-12-07T17:30:29.380676760Z"
    }
   },
   "id": "511f0455b1e6550a"
  },
  {
   "cell_type": "code",
   "execution_count": 10,
   "outputs": [
    {
     "name": "stdout",
     "output_type": "stream",
     "text": [
      "201\n",
      "201\n",
      "201\n",
      "201\n",
      "201\n",
      "201\n",
      "201\n",
      "201\n",
      "201\n",
      "201\n",
      "201\n",
      "201\n",
      "201\n",
      "201\n",
      "201\n",
      "201\n",
      "201\n",
      "201\n",
      "201\n",
      "201\n",
      "201\n",
      "201\n",
      "201\n",
      "201\n",
      "201\n",
      "201\n",
      "201\n",
      "201\n",
      "201\n",
      "201\n",
      "201\n",
      "201\n",
      "201\n",
      "201\n",
      "201\n",
      "201\n",
      "201\n",
      "201\n",
      "201\n",
      "201\n",
      "201\n",
      "201\n",
      "201\n",
      "201\n",
      "201\n",
      "201\n",
      "201\n",
      "201\n",
      "201\n",
      "201\n",
      "201\n",
      "201\n",
      "201\n",
      "201\n",
      "201\n",
      "201\n",
      "201\n",
      "201\n",
      "201\n",
      "201\n",
      "201\n",
      "201\n",
      "201\n",
      "201\n",
      "201\n",
      "201\n",
      "201\n",
      "201\n",
      "201\n",
      "201\n",
      "201\n",
      "201\n",
      "201\n",
      "201\n",
      "201\n",
      "201\n",
      "201\n",
      "201\n",
      "201\n",
      "201\n",
      "201\n",
      "201\n",
      "201\n",
      "201\n",
      "201\n",
      "201\n",
      "201\n",
      "201\n",
      "201\n",
      "201\n",
      "201\n",
      "201\n",
      "201\n",
      "201\n",
      "201\n",
      "201\n",
      "201\n",
      "201\n",
      "201\n",
      "201\n",
      "201\n",
      "201\n",
      "201\n",
      "201\n",
      "201\n",
      "201\n",
      "201\n",
      "201\n",
      "201\n",
      "201\n",
      "201\n",
      "201\n",
      "201\n",
      "201\n",
      "201\n",
      "201\n",
      "201\n",
      "201\n",
      "201\n",
      "201\n",
      "201\n",
      "201\n",
      "201\n",
      "201\n",
      "201\n",
      "201\n",
      "201\n",
      "201\n",
      "201\n",
      "201\n",
      "201\n",
      "201\n",
      "201\n",
      "201\n",
      "201\n",
      "201\n",
      "201\n",
      "201\n",
      "201\n",
      "201\n",
      "201\n",
      "201\n",
      "201\n",
      "201\n",
      "201\n",
      "201\n",
      "201\n",
      "201\n",
      "201\n",
      "201\n",
      "201\n",
      "201\n",
      "201\n",
      "201\n",
      "201\n",
      "201\n",
      "201\n",
      "201\n",
      "201\n",
      "201\n",
      "201\n",
      "201\n",
      "201\n",
      "201\n",
      "201\n",
      "201\n",
      "201\n",
      "201\n",
      "201\n",
      "201\n",
      "201\n",
      "201\n",
      "201\n",
      "201\n",
      "201\n",
      "201\n",
      "201\n",
      "201\n",
      "201\n",
      "201\n",
      "201\n",
      "201\n",
      "201\n",
      "201\n",
      "201\n",
      "201\n",
      "201\n",
      "201\n",
      "201\n",
      "201\n",
      "201\n",
      "201\n",
      "201\n",
      "201\n",
      "201\n",
      "201\n",
      "201\n",
      "201\n"
     ]
    }
   ],
   "source": [
    "for _, simplification in diario_df.iterrows():\n",
    "    try:\n",
    "        #print(simplification['sentence_original'][:25])\n",
    "        #time.sleep(1)\n",
    "        data = dict(sentence_original=simplification['sentence_original'],\n",
    "                    sentence_simplified=simplification['sentence_simplified'],\n",
    "                    document_name=simplification['document_name'],\n",
    "                    document_sentence_id=simplification['document_sentence_id']\n",
    "                    )\n",
    "        x = requests.post(url, json=data)\n",
    "        print(x.status_code)\n",
    "    except:\n",
    "        print(f\"Error:{data}\")"
   ],
   "metadata": {
    "collapsed": false,
    "ExecuteTime": {
     "end_time": "2023-12-07T17:30:31.798757593Z",
     "start_time": "2023-12-07T17:30:29.701369776Z"
    }
   },
   "id": "bddb4fbaafb865a4"
  },
  {
   "cell_type": "code",
   "execution_count": 35,
   "outputs": [],
   "source": [],
   "metadata": {
    "collapsed": false
   },
   "id": "e7bc9cd71bb89dff"
  },
  {
   "cell_type": "code",
   "execution_count": 35,
   "outputs": [],
   "source": [],
   "metadata": {
    "collapsed": false
   },
   "id": "8ecec99f2b662d8c"
  },
  {
   "cell_type": "code",
   "execution_count": 35,
   "outputs": [],
   "source": [],
   "metadata": {
    "collapsed": false
   },
   "id": "c9605cf703e7bae2"
  }
 ],
 "metadata": {
  "kernelspec": {
   "display_name": "Python 3",
   "language": "python",
   "name": "python3"
  },
  "language_info": {
   "codemirror_mode": {
    "name": "ipython",
    "version": 2
   },
   "file_extension": ".py",
   "mimetype": "text/x-python",
   "name": "python",
   "nbconvert_exporter": "python",
   "pygments_lexer": "ipython2",
   "version": "2.7.6"
  }
 },
 "nbformat": 4,
 "nbformat_minor": 5
}
