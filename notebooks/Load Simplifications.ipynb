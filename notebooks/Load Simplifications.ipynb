{
 "cells": [
  {
   "cell_type": "code",
   "execution_count": 1,
   "id": "initial_id",
   "metadata": {
    "collapsed": true,
    "ExecuteTime": {
     "end_time": "2023-09-25T21:14:20.857658772Z",
     "start_time": "2023-09-25T21:14:20.563771861Z"
    }
   },
   "outputs": [],
   "source": [
    "import pandas as pd"
   ]
  },
  {
   "cell_type": "code",
   "execution_count": 2,
   "outputs": [],
   "source": [
    "diario_df = pd.read_csv(\"../resources/dataset/openai_35_simplification.csv\")"
   ],
   "metadata": {
    "collapsed": false,
    "ExecuteTime": {
     "end_time": "2023-09-25T21:14:47.099077681Z",
     "start_time": "2023-09-25T21:14:47.080755383Z"
    }
   },
   "id": "94fd0ec1da5be6d7"
  },
  {
   "cell_type": "code",
   "execution_count": 4,
   "outputs": [
    {
     "data": {
      "text/plain": "   document_sentence_id                                               text  \\\n0                    19  Por el presente se llama, cita y emplaza á los...   \n1                    20  Hallándose establecidas las reales escuelas gr...   \n2                    23  De mi retiro he salido tan solo, Señor, por ve...   \n3                    25  ¿Con qué gusto y alegría los españoles miramos...   \n4                    26  El Serenísimo Señor nuestro Infante Don Antoni...   \n\n                                            document  length  \\\n0  ../transcripciones/TXTs/Diario_de_Madrid_1-10-...     140   \n1  ../transcripciones/TXTs/Diario_de_Madrid_1-10-...     123   \n2  ../transcripciones/TXTs/Diario_de_Madrid_1-10-...      52   \n3  ../transcripciones/TXTs/Diario_de_Madrid_1-10-...      31   \n4  ../transcripciones/TXTs/Diario_de_Madrid_1-10-...      49   \n\n                                           openai_35  \n0  Por medio de esta carta, se convoca y cita a l...  \n1  Se informa que las escuelas gratuitas para los...  \n2  He salido de mi retiro solo, Señor, para ver a...  \n3  Con qué felicidad y alegría los españoles vemo...  \n4  El muy noble señor nuestro príncipe Don Antoni...  ",
      "text/html": "<div>\n<style scoped>\n    .dataframe tbody tr th:only-of-type {\n        vertical-align: middle;\n    }\n\n    .dataframe tbody tr th {\n        vertical-align: top;\n    }\n\n    .dataframe thead th {\n        text-align: right;\n    }\n</style>\n<table border=\"1\" class=\"dataframe\">\n  <thead>\n    <tr style=\"text-align: right;\">\n      <th></th>\n      <th>document_sentence_id</th>\n      <th>text</th>\n      <th>document</th>\n      <th>length</th>\n      <th>openai_35</th>\n    </tr>\n  </thead>\n  <tbody>\n    <tr>\n      <th>0</th>\n      <td>19</td>\n      <td>Por el presente se llama, cita y emplaza á los...</td>\n      <td>../transcripciones/TXTs/Diario_de_Madrid_1-10-...</td>\n      <td>140</td>\n      <td>Por medio de esta carta, se convoca y cita a l...</td>\n    </tr>\n    <tr>\n      <th>1</th>\n      <td>20</td>\n      <td>Hallándose establecidas las reales escuelas gr...</td>\n      <td>../transcripciones/TXTs/Diario_de_Madrid_1-10-...</td>\n      <td>123</td>\n      <td>Se informa que las escuelas gratuitas para los...</td>\n    </tr>\n    <tr>\n      <th>2</th>\n      <td>23</td>\n      <td>De mi retiro he salido tan solo, Señor, por ve...</td>\n      <td>../transcripciones/TXTs/Diario_de_Madrid_1-10-...</td>\n      <td>52</td>\n      <td>He salido de mi retiro solo, Señor, para ver a...</td>\n    </tr>\n    <tr>\n      <th>3</th>\n      <td>25</td>\n      <td>¿Con qué gusto y alegría los españoles miramos...</td>\n      <td>../transcripciones/TXTs/Diario_de_Madrid_1-10-...</td>\n      <td>31</td>\n      <td>Con qué felicidad y alegría los españoles vemo...</td>\n    </tr>\n    <tr>\n      <th>4</th>\n      <td>26</td>\n      <td>El Serenísimo Señor nuestro Infante Don Antoni...</td>\n      <td>../transcripciones/TXTs/Diario_de_Madrid_1-10-...</td>\n      <td>49</td>\n      <td>El muy noble señor nuestro príncipe Don Antoni...</td>\n    </tr>\n  </tbody>\n</table>\n</div>"
     },
     "execution_count": 4,
     "metadata": {},
     "output_type": "execute_result"
    }
   ],
   "source": [
    "diario_df.head()"
   ],
   "metadata": {
    "collapsed": false,
    "ExecuteTime": {
     "end_time": "2023-09-25T21:14:59.901964664Z",
     "start_time": "2023-09-25T21:14:59.891413495Z"
    }
   },
   "id": "15d07a0693db6da9"
  },
  {
   "cell_type": "code",
   "execution_count": 7,
   "outputs": [
    {
     "name": "stdout",
     "output_type": "stream",
     "text": [
      "Por el presente se llama, cita y emplaza á los parientes pobres mas cercanos de D. Manuel y Doña Polonía Moreno Diez, hermanos, difuntos, naturales de la villa de Villanueva de Cameros, y vecinos que fueron de esta corte, para que dentro de 30 dias, contados desde el 1.º del presente mes de octubre, comparezcan ante el Sr. D. Joaquin Almazan, del consejo de S. M., teniente corregidor de esta villa, y escribanía del número de D. Santiago de Estepar, por si ó por medio de procurador, á pedir la cuarta parte de bienes que quedaron por muerte de los referidos D. Manuel y Doña Polonia, segun su disposicion testamentaria; con apercibimiento que pasado no compareciendo, les parará el perjuicio que bara lugar.\n",
      "Hallándose establecidas las reales escuelas gratuitas para los niños y niñas pobres del barrio de la diputacion de las Niñas de Leganes, segun está prevenido por real órden de 21 de enero y demas posteriores resoluciones, se hace saber á fin de que los padres y parientes que tengan á su cargo niños ó niñas de la clase de pobres, puedan enviar á las dichas escuelas sus hijos é hijas, ó parientes, dirigiendo sus memoriales á la expres sada diputacion por medio del infrascripto secretario, que vive calle de Hortaleza, frente á la de la Reyna, cuarto 2.º, expresando los nombres, calle y casa de su habitacion.=De acuerdo de la misma diputacion.\n",
      "De mi retiro he salido tan solo, Señor, por ver nsa deldad ó muger que del Brasil ha venido: 794 to logré; y á el cielo pido con todo mi corazon bendiga tan bella union, consuele nuestra esperanza con Isabel de Braganza y Fernando de Borbon.\n",
      "¿Con qué gusto y alegría los españoles miramos á estos jovenes que amamos por sú bondad sin igual, que nos alejan el mal, de quienes bien esperamos?\n",
      "El Serenísimo Señor nuestro Infante Don Antonio, aunque le pese al demonio, merece todo loor: nos hizo grande favor; y á las esposas con maña en carretela acompaña, y contento y muy gozoso entra en el pueblo dichoso de la capital de España.\n",
      "Un párroco entusiasmado por Fernando é Isabel, Cárlos, Maria, y aquel que es su Tio idolatrado, debe ser disimulado por aqueste atrevimiento; á quien su grande contento, su amor y mucha aficion á la Casa de Borbon, motivo tal pensamiento.\n",
      "La persona á quien en el dia 29 de setiembre último le haya faltado un fanal grande, ó farol de cristal, acuda al repeso mayor de corte, en donde dando sus señas se le entregará.\n",
      "quien quisiere tomar en arrendamiento, que deberá principiar en san Miguel de setiembre del año próximo de 1817, el coto redondo y heredamiento de Silillos en las inmediaciones de la villa de Valdetorres, distante como unas 6 leguas de esta corte, cuya posesion se compone de una crecida porcion de tierras con destino á pasto y labor, alameda, viñas y olivares, con todas las oficinas necesarias, acudirá á la contaduría del Excmo.\n",
      "Sr. duque de Granada de Ega, á quien pertenece, á enterarse de las condiciones para el arriendo; en inteligencia de que se ha de celebrar el remate el dia 9 del presente octubre, de doce á una, en dicha contaduría.\n",
      "Se desea saber el paradero de Doña Vitoria Duran, vecina de esta corte, ó en el caso de haber fallecido de sus herederos ó testamentarios, para comunicarles cierto asunto que les interesa.\n",
      "Dará razon D. Diego Bodelon, que vive calle de la Esgrima, núm. 2, cuarto 2.º Se solicita saber de D. Vicente Perez Mingues, cirujano titular, residente en esta corte, y natural de Palencia.\n",
      "En el postigo de san Martin, núm. 4, cuarto 2.º darán razon de un sugeto que desea hallar á la mayor brevedad otro con quien ir á Cadiz en silla de posta, partiendo gastos.\n",
      "Tarifas de los haberes, cargos, gratificaciones, abonos y descuentos de un regimiento de infantería de linea y ligera, con sus aumentos é innovaciones; una sucinta explicacion de quebrados y números denominados, y la reduccion de los socorros, en las que se han mejorado las de Camuñas y Alfaraz para la mas prouta y segura liquidación de los ajustes de tesorería é interiores de los cuerpos.\n",
      "Tarifa de los sueldos, prest, gratificaciones y raciones que disfrutan los oficiales, tropa y fondos de los regimientos de caballería, compuesta por Bernabé Arrans, sargento 1.º del regimiento de la Reyna, segundo de Cazadores.\n",
      "Se hallarán en la librería de Barco, Carrera de san Gerónimo; en Valencia en la de Domingo y Cabrerizo; en Cádiz en la de Murgia; en Sevilla en la de Caro; en Barcelona en la de Gaspar; en Zaragoza en la de Sanchez; en Toledo en la de Hernandez, y en Córdoba en la de Berard.\n",
      "Se vende una huerta con pozo noria vestido de cal y ladrillo, mul abundante de aguas, consistente en término de Carabanchel alto, y sitio que llaman del Riajal, de caber 8 fanegas, las 6 1 de regadío, tasadas á 3500 rs.\n",
      "en metálico; y por decreto del consejo supremo de S. M. se ha mandado publicar por ocho dias mas, y señalado nuevamente para el remate el 10 del corriente mes de octubre, á las 10, en la audiencia del Sr. D. Joaquin Almazan; teniente corregidor de esta villa, por la escribanía de su número que exerce D. Juan Raya.\n",
      "92, que comprehende 18600 pies superficiales, en la que se halla establecida una fábrica corriente de papel blanco, y en que se construyen cada dia 20 resmas y 500 cartones.\n",
      "Quien quisiere tratar de ajuste, en inteligencia de que entran en la venta las máquinas y utensilios fixos, y algunos movibles, acuda á la calle de Barrionuevo, cuarto principal sobre el estanquillo.\n",
      "ancha á 8½ y 9, y por piezas de 71 varas á 590; plugastel ancho á 9; coruñas de 10½ á 14; tohallas de hilo de 6 cuartas á 17 y 18; platillas crudas y blancas á 7½, 8½ y 9; lienzos negros lavados para forros á 9, y otros que se dirán.\n",
      "Se venden dos caballos hechos á silla, el uno cordobes tordo claro, y sobresaliente por su hermosura nada comun, y el otro de la casta de Vazquez de Sevilla.\n",
      "El que quiera verlos y tratar de ajuste, acudirá á la calle de Amaniel, casa núm. 9, y preguntará por Antonio Garijo, que está encargado de ellos.\n",
      "De 12½ á una del dia 16 del pasado se perdió un perrito dogo nuevo, color de café claro, algo romo, y las orejas no mul cortadas.\n",
      "Entre 7 y 8 de la mañana del 29 del pasado setiembre se extravió del portal de la calle Mayor, núm. 7, una burra de leche, pelo rubio, aparejada, con una matadura en la espaldilla izquierda, y herrada en el hocico.\n",
      "Un sugeto de edad de 36 años desea colocarse en una casa decente en clase de mayordomo, portero de estrados ú otro destino decoroso ó por mancebo en el comercio: tiene personas que abonen su conducta.\n",
      "Joaquina del Barco, de edad de 22 años, viuda, es primeriza, y busca cria: tiene leche de 11 meses, y personas que abonen su conducta.\n",
      "En el de la cruz, á las 7 de la noche, se executará la funcion siguiente: dará principio con la loa titulada el Triunfo de la razon, seguirá la ópera en 2 actos titulada el Fanático por la música, y se concluirá con el bolero á seis.\n",
      "En el del Principe, á las 7 de la noche, se executará la gran ópera bufa nueva original italiana, traducida en 2 actos, titulada la Italiana en Argel, precedida de la sinfonía propia de la misma ópera, y se dará fin con el baile de medio carácter en 3 actos titulado María Stuardo.\n",
      "En estos primeros dias del mes se admiten subscripciones á este diario en su despacho principal, calle de Alcalá, entrando por la Puerta del Sol á mano derecha, núm. 2, cuarto principal, frente á la casa del marques de la Torrecilla, á 8 rs.\n",
      "Guetard que el desorugamiento de árboles de los grandes caminos tiene mas de inútil que de beneficioso; y acaso tal vez la oruga de los olmos y álamos, caida en el suelo notiria á buscar otras plantas que dañar ni roer, teniendo en aquellos árboles substancia de que vivir; fuera de que semejantes orugas no podrian mantenerse v. gr.\n",
      "en los trigos ni en las cepas, porque cada clase de estos insectos tiene su vegetable determinado; y asi el perjuicio que ocasionan tiene mas de aparente que de verdadero.\n",
      "No es mul facil decidir la cuestion, aunque ella es de grande importancia; porque la falta de bellota, por exemplo, ocasiona una excesiva penuria en muchas provincias.\n",
      "Un sugeto práctico en este asunto puede testificar los dos casos siguientes: \"Yo he visto, dice, multiplicarse de tal modo los escarabajos y avejarrones, que devoraban y consumian hasta las hojas de los nogales; y sin embargo de eso la cosecha de la nuez fue mul suficiente.\n",
      "\"En el año 1780 las moscas cantáridas fueron tantas, y cargaron de tal suerte sobre los fresnos, que no les dexaron ni rastro de hoja, y con todo nada padeció la semilla, porque habiendo yo recogido mucha de aquellos mismos árboles pelados, la sembré, y nació y vegetó perfectamente.\n",
      "Yo no me lisongeo inferir de estos dos hechos que á mi me han pasado (tal vez excepciones de regla) que por eso no hayan de desorugarse los árboles de los jardines y de los vergéles; porque aun quando 538 la oruga que desnuda la hoja no haga daño al fruto, pero el ver al árbol desnudo y pelado de aquella por la plaga del insecto, siempre causa un aspecto lastimoso y desagradable.\n",
      "Aun puedo añadir que no obstante los dos casos citados, he visto muchas veces desecarse los frutos en tiempos mui distintos del acometimiento de la oruga á las hojas \"Esta contrariedad en los efectos puede acaso provenir de la época en que este insecto hace sus correrías y destrozos.\n",
      "La mas oportuna estacion del año para desorugar con el instrumento que se apuntó es la del invierno; porque entonces todos los insectos y sus huevos estan encerrados y ocultos en sus nidos, los quales quitandose bien, se logra quitar el mal por su raiz, sin temor ni recelo de que retoñe.\n",
      "Fuera de esta razon es de advertir que el desorugamiento del invierno no hace casi el menor daño á los árboles, porque las mariposas de la oruga colocan siempre sus nidos sobre los pimpollos ó yemas del año antecedente, á fin (gobernadas de instinto natural) de que quando sus cresas ó prole rompan los huevecillos se hallen mas cerca de las hojitas mas tiernas que poder comer, nacidas con abundancia en las ramillas nuevas.\n",
      "Pero es de prevenir que luego que se ha desorugado qualquier árbol, es menester juntar con esmero en un monton todos los pedacillos y fragmentos de leño que se le han quitado, donde estan pegados los nidos y huevos, y pegarles fuego al instante, para no dar lugar á que nazcan y se haga el remedio mas dificil.\n",
      "En la calle de la Morería vieja, casa núm. 14, se hace pan como lo de Castilla, y se da por cada fanega de trigo 37 panes de 2 libras, bien acondicionado y con mucha curiosidad.\n",
      "En la confitería nueva sita enfrente de la casa de Astrearena se venden los acreditados panecillos llamados de todos los Santos, hechos al estilo de los de Barcelona: tambien se halla toda clase de pastas finas, mantecados de Castilla, merenques, pasta de flor, pastelillos finos, oxaldres, bizcochos borrachos lo mismo que los de Guadalaxara, y toda clase de licores.\n",
      "En la chufería sita en la calle Imperial, junto á la lonja de Torroba, se ha establecido una fábrica de buñuelos, hechos con todo esmero y limpieza.\n",
      "En la calle de Hortaleza, frente á la casa de los Agonizantes, al lado 537 de la tahona, casa á la malicia núm. 7, se ha abierto por unos catalanes una salchichería, en donde se hallan y fabrican butifarras blancas y negras al estilo de su pais, salchichon, salchicha fina y ordinaria, chorizos y longaniza á la castellana, todo de carne de cerdo sin mezcla de otra alguna, y hecho con la mayor limpieza y esmero; por lo que no dudan dichos fabricantes que quedarán gustosos los consumidores.\n",
      "En el cementerio de santa Cruz, casa núm. 9, se ha abierto una tienda de vinos generosos, licores de todas clases y géneros ultramarinos, todo á precios equitativos.\n",
      "La persona á quien se le hubiese extraviado acudirá al portero de la casa de la marquesa de Villalopez, quien dará razon de donde se halla, y en dando las señas, acreditando su pertenencia, y pagando su manutencion la entregarán.\n",
      "En la calle de santa Isabel, núm. 2, esquina á la de los tres Peres, se alquila un quarto principal con 16 piezas, hermosas vistas y un buen jardin; como tambien dos quartos principales pequeños.\n",
      "Con permiso del casero se subarrienda un quarto 2.º con vistas á la calle, ricamente amoblado, y con toda independencia, sito en la calle de la Abada.\n",
      "En la calle de los Jardines, casa núm. 60, se alquilan un quarto baxo y otro principal.=En la calle del Carmen, núm. 10, frente á la de los Negros, se alquilan un quarto principal y un tercero con vistas á la calle de los Preciados, y una guardilla vividera.=En la calle de la Gorguera se alquila el quarto principal de la casa núm. 12.= En la calle de Valverde, número 31, al lado del oratorio, se alquila un quarto principal.=En la calle del caballero de Gracia, núm. 7, se alquila una cochera que sirvió de almacen de yeso.=Las llaves de todas estas habitaciones estan en la casa tienda de la viuda de D. Miguel de Amandi, calle de la Montera, donde se tratará de los alquileres, que se arreglaran con la posible equidad.\n",
      "En la carrera de san Gerónimo, inmediato á la iglesia de los Italianos, se traspasa un quarto 2.º, vestido de papel pintado y con diferen538 tes muebles.\n",
      "Con permiso del casero se traspasa la lonja sita en la plazuela de santo Domingo, esquina á la calle de los Tudescos, que hace frente á los Caños del Peral una puerta, y á la subida de los Angeles la otra.\n"
     ]
    }
   ],
   "source": [
    "for _, simplification in diario_df.iterrows():\n",
    "    #print(simplification)\n",
    "    print(simplification['text'])"
   ],
   "metadata": {
    "collapsed": false,
    "ExecuteTime": {
     "end_time": "2023-09-25T21:16:20.150616854Z",
     "start_time": "2023-09-25T21:16:20.131094059Z"
    }
   },
   "id": "bddb4fbaafb865a4"
  },
  {
   "cell_type": "code",
   "execution_count": null,
   "outputs": [],
   "source": [],
   "metadata": {
    "collapsed": false
   },
   "id": "e28215de5d0a51d5"
  }
 ],
 "metadata": {
  "kernelspec": {
   "display_name": "Python 3",
   "language": "python",
   "name": "python3"
  },
  "language_info": {
   "codemirror_mode": {
    "name": "ipython",
    "version": 2
   },
   "file_extension": ".py",
   "mimetype": "text/x-python",
   "name": "python",
   "nbconvert_exporter": "python",
   "pygments_lexer": "ipython2",
   "version": "2.7.6"
  }
 },
 "nbformat": 4,
 "nbformat_minor": 5
}
